{
 "cells": [
  {
   "cell_type": "code",
   "execution_count": 1,
   "metadata": {},
   "outputs": [],
   "source": [
    "import numpy as np\n",
    "%load_ext autoreload\n",
    "%autoreload 0"
   ]
  },
  {
   "cell_type": "markdown",
   "metadata": {},
   "source": [
    "Notebook by **Maxime Dion** <maxime.dion@usherbrooke.ca><br>\n",
    "For the QSciTech-QuantumBC virtual workshop on gate-based quantum computing"
   ]
  },
  {
   "cell_type": "markdown",
   "metadata": {},
   "source": [
    "## Tutorial for the VQE Activity\n",
    "\n",
    "For this activity, make sure you can easily import your versions of `hamiltonian.py`, `pauli_string.py` and `mapping.py` that you have completed in the mapping tutorial. You will also need your verions of `evaluator.py` and `solver.py`. Placing this notebook in the same `path` as these files is the easiest way to acheive this. At the end of this notebook, you should be in good position to complete these 2 additionnal files.\n",
    "\n",
    "The solution we suggest here is NOT mandatory. If you find ways to make it better and more efficient, go on and impress us! On the other hand, by completing all sections of this notebook you'll be able to :\n",
    "- Prepare a Quantum State based on a varitional form (circuit);\n",
    "- Measure qubits in the X, Y and Z basis;\n",
    "- Estimate expectation value of Pauli String on a quantum state;\n",
    "- Evaluate the expectation value of an Hamiltonian in the form of a Linear Combinaison of Pauli Strings;\n",
    "- Run a minimization algorithm on the energy expectation fonction to find the ground state of a Hamiltonian;\n",
    "- Dance to express your overwhelming sense of accomplishment\n",
    "\n",
    "**Important**\n",
    "\n",
    "When you modify and save a `*.py` file you need to re-import it so that your modifications can be taken into account when you re-execute a call. By adding the magic command `%autoreload` at the beginning of a cell, you make sure that the modifications you did to the `*.py` files are taken into account when you re-run a cell and that you can see the effect.\n",
    "\n",
    "If you encounter unusual results, restart the kernel and try again.\n",
    "\n",
    "**Note on numbering**\n",
    "\n",
    "When you ask a question you can refer to the section name or the section number.\n",
    "\n",
    "To enable the section numbering, please make sure you install [nbextensions](https://jupyter-contrib-nbextensions.readthedocs.io/en/latest/install.html). It is available in the conda distribution. After installation it you need to enable the option 'Table of contents (2)'."
   ]
  },
  {
   "cell_type": "markdown",
   "metadata": {},
   "source": [
    "# Variationnal Quantum States\n",
    "\n",
    "Every quantum circuit starts with all qubits in the state $|0\\rangle$. In order to prepare a quantum state $|\\psi\\rangle$ we need to prepare a `QuantumCircuit` that will modify the states of the qubits in order to get this specific state. The action of a circuit can always be represented as a unitiary operator.\n",
    "\n",
    "\\begin{align}\n",
    "    |\\psi\\rangle &= \\hat{U} |0 \\ldots 0\\rangle\n",
    "\\end{align}\n",
    "\n",
    "For a parametric state the `QuantumCircuit` and therefore the unitary $U$ will depend on some parameters that we wirte as $\\boldsymbol{\\theta}$.\n",
    "\n",
    "\\begin{align}\n",
    "    |\\psi(\\boldsymbol{\\theta})\\rangle &= \\hat{U}(\\boldsymbol{\\theta}) |0 \\ldots 0\\rangle\n",
    "\\end{align}\n",
    "\n",
    "We will see 2 ways to define Parametrized Quantum Circuits that represent Variationnal Quantum States. For the first method we only need the `QuantumCircuit` class from `qiskit.circuit`."
   ]
  },
  {
   "cell_type": "code",
   "execution_count": 2,
   "metadata": {},
   "outputs": [],
   "source": [
    "from qiskit.circuit import QuantumCircuit"
   ]
  },
  {
   "cell_type": "markdown",
   "metadata": {},
   "source": [
    "## Generating function\n",
    "The easiest way to generate a parametrized `QuantumCircuit` is to implement a function that takes parameters as arguments and returns a `QuantumCircuit`. Here is such a function that generates a 2 qubits QuantumCircuit."
   ]
  },
  {
   "cell_type": "code",
   "execution_count": 3,
   "metadata": {},
   "outputs": [],
   "source": [
    "def example_2qubits_2params_quantum_circuit(theta,phi):\n",
    "    qc = QuantumCircuit(2)\n",
    "    qc.ry(theta,0)\n",
    "    qc.rz(phi,0)\n",
    "    qc.cx(0,1)\n",
    "    return qc"
   ]
  },
  {
   "cell_type": "markdown",
   "metadata": {},
   "source": [
    "To visualize this circuit we first need to call the generating function with dummy argument values for it to return a circuit. We can draw the circuit. The `'mpl'` option draws the circuit in a fancy way using `matplotlib`. If you are experiencing problems, you can remove this option."
   ]
  },
  {
   "cell_type": "code",
   "execution_count": 4,
   "metadata": {},
   "outputs": [
    {
     "data": {
      "image/png": "[encoded data removed]",
      "text/plain": [
       "<Figure size 370.906x200.667 with 1 Axes>"
      ]
     },
     "execution_count": 4,
     "metadata": {},
     "output_type": "execute_result"
    }
   ],
   "source": [
    "varform_qc = example_2qubits_2params_quantum_circuit\n",
    "qc = varform_qc(1,2)\n",
    "qc.draw('mpl')"
   ]
  },
  {
   "cell_type": "markdown",
   "metadata": {},
   "source": [
    "## Using qiskit parameter\n",
    "\n",
    "The other way to generate a parametrized `QuantumCircuit` is to use the `Parameter` class in `qiskit`."
   ]
  },
  {
   "cell_type": "code",
   "execution_count": 5,
   "metadata": {},
   "outputs": [],
   "source": [
    "from qiskit.circuit import Parameter"
   ]
  },
  {
   "cell_type": "markdown",
   "metadata": {},
   "source": [
    "Here is the same circuit as before done with this method."
   ]
  },
  {
   "cell_type": "code",
   "execution_count": 6,
   "metadata": {},
   "outputs": [
    {
     "data": {
      "text/plain": [
       "<qiskit.circuit.instructionset.InstructionSet at 0x7f5dfda183a0>"
      ]
     },
     "execution_count": 6,
     "metadata": {},
     "output_type": "execute_result"
    }
   ],
   "source": [
    "a = Parameter('a')\n",
    "b = Parameter('b')\n",
    "varform_qc = QuantumCircuit(2)\n",
    "varform_qc.ry(a,0)\n",
    "varform_qc.rz(b,0)\n",
    "varform_qc.cx(0,1)"
   ]
  },
  {
   "cell_type": "markdown",
   "metadata": {},
   "source": [
    "Done this way the parametrized circuit can be drawn right away."
   ]
  },
  {
   "cell_type": "code",
   "execution_count": 7,
   "metadata": {},
   "outputs": [
    {
     "data": {
      "image/png": "[encoded data removed]",
      "text/plain": [
       "<Figure size 370.906x200.667 with 1 Axes>"
      ]
     },
     "execution_count": 7,
     "metadata": {},
     "output_type": "execute_result"
    }
   ],
   "source": [
    "varform_qc.draw('mpl')"
   ]
  },
  {
   "cell_type": "markdown",
   "metadata": {},
   "source": [
    "To see what are the parameters of a parametrized `QuantumCircuit` you can use"
   ]
  },
  {
   "cell_type": "code",
   "execution_count": 8,
   "metadata": {},
   "outputs": [
    {
     "data": {
      "text/plain": [
       "ParameterView([Parameter(a), Parameter(b)])"
      ]
     },
     "execution_count": 8,
     "metadata": {},
     "output_type": "execute_result"
    }
   ],
   "source": [
    "varform_qc.parameters"
   ]
  },
  {
   "cell_type": "markdown",
   "metadata": {},
   "source": [
    "To assign values to the different parameters we need to use the `QuantumCircuit.assign_paremeters()` method. This methods takes a `dict` as an argument containing the `Parameter`s and their `value`s."
   ]
  },
  {
   "cell_type": "code",
   "execution_count": 9,
   "metadata": {},
   "outputs": [
    {
     "data": {
      "image/png": "[encoded data removed]",
      "text/plain": [
       "<Figure size 370.906x200.667 with 1 Axes>"
      ]
     },
     "execution_count": 9,
     "metadata": {},
     "output_type": "execute_result"
    }
   ],
   "source": [
    "param_dict = {a : 1, b : 2}\n",
    "qc = varform_qc.assign_parameters(param_dict)\n",
    "qc.draw('mpl')"
   ]
  },
  {
   "cell_type": "markdown",
   "metadata": {},
   "source": [
    "If you want to provide the parameter values as a `list` or a `np.array` you can build the `dict` directly. Just make sure that the order you use in `param_values` corresponds to the other of `varform_qc.parameters`."
   ]
  },
  {
   "cell_type": "code",
   "execution_count": 10,
   "metadata": {},
   "outputs": [
    {
     "name": "stdout",
     "output_type": "stream",
     "text": [
      "{Parameter(a): 1, Parameter(b): 2}\n"
     ]
    }
   ],
   "source": [
    "param_values = [1, 2]\n",
    "param_dict = dict(zip(varform_qc.parameters,param_values))\n",
    "print(param_dict)"
   ]
  },
  {
   "cell_type": "markdown",
   "metadata": {},
   "source": [
    "## Varforms circuits for H2\n",
    "Using the method of you choice, prepare 2 different 4-qubit `QuantumCircuit`s. \n",
    "- The first should take 1 parameter to cover the real coefficients state sub space spanned by $|0101\\rangle$ and $|1010\\rangle$.\n",
    "- The second should take 3 parameters to cover the real coefficients state sub space spanned by $|0101\\rangle$, $|0110\\rangle$, $|1001\\rangle$ and $|1010\\rangle$.\n",
    "\n",
    "Revisit the presentation to find such circuits."
   ]
  },
  {
   "cell_type": "code",
   "execution_count": 11,
   "metadata": {},
   "outputs": [
    {
     "data": {
      "image/png": "[encoded data removed]",
      "text/plain": [
       "<Figure size 454.719x367.889 with 1 Axes>"
      ]
     },
     "execution_count": 11,
     "metadata": {},
     "output_type": "execute_result"
    }
   ],
   "source": [
    "#varform_4qubits_1param = QuantumCircuit(4)\n",
    "#a = Parameter('a')\n",
    "#varform_4qubits_1param.ry(a,0)\n",
    "#varform_4qubits_1param.x(1)\n",
    "#varform_4qubits_1param.cx(1,0)\n",
    "#varform_4qubits_1param.cx(0,2)\n",
    "#varform_4qubits_1param.cx(1,3)\n",
    "\n",
    "varform_4qubits_1param = QuantumCircuit(4)\n",
    "a = Parameter('a')\n",
    "varform_4qubits_1param.x(0)\n",
    "varform_4qubits_1param.ry(a,1)\n",
    "varform_4qubits_1param.cx(1,0)\n",
    "varform_4qubits_1param.cx(0,2)\n",
    "varform_4qubits_1param.cx(1,3)\n",
    "\n",
    "varform_4qubits_1param.draw('mpl')"
   ]
  },
  {
   "cell_type": "code",
   "execution_count": 12,
   "metadata": {},
   "outputs": [
    {
     "data": {
      "image/png": "[encoded data removed]",
      "text/plain": [
       "<Figure size 454.719x367.889 with 1 Axes>"
      ]
     },
     "execution_count": 12,
     "metadata": {},
     "output_type": "execute_result"
    }
   ],
   "source": [
    "varform_4qubits_3params = QuantumCircuit(4)\n",
    "a = Parameter('a')\n",
    "b = Parameter('b')\n",
    "c = Parameter('c')\n",
    "varform_4qubits_3params.x(0)\n",
    "varform_4qubits_3params.x(2)\n",
    "varform_4qubits_3params.ry(a,1)\n",
    "varform_4qubits_3params.cx(1,3)\n",
    "varform_4qubits_3params.ry(b,1)\n",
    "varform_4qubits_3params.ry(c,3)\n",
    "varform_4qubits_3params.cx(1,0)\n",
    "varform_4qubits_3params.cx(3,2)\n",
    "\n",
    "varform_4qubits_3params.draw('mpl')"
   ]
  },
  {
   "cell_type": "markdown",
   "metadata": {
    "tags": []
   },
   "source": [
    "# Estimation\n",
    "The `Estimator` is an object that will help us to estimate the expectation value of an observable such as the Hamiltonian (in the for of a `LinearCombinaisonPauliString`) on a specific variational form and backend. To initialize an `Estimator` you should provide :\n",
    "\n",
    "**Mandatory**\n",
    "- A **variationnal form** that can create a `QuantumCircuit` given a set of `params`;\n",
    "- A **backend** `qiskit.Backend` (a simulator or an actual device handle) on which to run the `QuantumCircuit`.\n",
    "\n",
    "**Optional**\n",
    "- `execute_opt` is a `dict` containing the optional arguments to pass to the `qiskit.execute` method (ex : `{'shots' : 1024}`);\n",
    "- `record` can be a function used to record results of the estimation."
   ]
  },
  {
   "cell_type": "markdown",
   "metadata": {},
   "source": [
    "Once you'll have completed the code, the creation/usage of an `Estimator` such as `BasicEstimator` will go like this :\n",
    "\n",
    "<code>\n",
    "estimator = BasicEstimator(varform_qc, backend)<br>estimator.set_observable(observable)<br>expected_value = estimator.eval(params)\n",
    "</code>\n",
    "\n",
    "First you'll initialize the estimator.\n",
    "\n",
    "Next, you'll provide the observables (`LinearCombinaisonPauliString`) you want to estimate the expectation value using the `set_observable()` method. \n",
    "\n",
    "Finally, you'll call the `eval()` method that will return the estimation of the observable's expected value. Mathematicaly, the use of this method corresponds to \n",
    "\n",
    "\\begin{align}\n",
    "E(\\boldsymbol{\\theta}).\n",
    "\\end{align}\n",
    "\n",
    "We will now go through the different pieces neccessary to complete the `Estimator` class."
   ]
  },
  {
   "cell_type": "markdown",
   "metadata": {},
   "source": [
    "## State circuit\n",
    "\n",
    "The first method we need to implement is `prepare_state_circuit()`. This method should take a `list` or a `ndarray` of parameters and replace then into the `varform` quantum circuit and return the `QuantumCircuit` that prepares the quantum state.\n",
    "\n",
    "You can test you code here with the abstract class."
   ]
  },
  {
   "cell_type": "code",
   "execution_count": 13,
   "metadata": {},
   "outputs": [],
   "source": [
    "from qiskit import Aer, execute\n",
    "qasm_simulator = Aer.get_backend('qasm_simulator')\n",
    "from estimator import Estimator"
   ]
  },
  {
   "cell_type": "code",
   "execution_count": 14,
   "metadata": {},
   "outputs": [
    {
     "data": {
      "image/png": "[encoded data removed]",
      "text/plain": [
       "<Figure size 621.941x367.889 with 1 Axes>"
      ]
     },
     "execution_count": 14,
     "metadata": {},
     "output_type": "execute_result"
    }
   ],
   "source": [
    "%autoreload\n",
    "varform = varform_4qubits_1param\n",
    "backend = qasm_simulator\n",
    "estimator = Estimator(varform,backend)\n",
    "params = np.random.random(1)\n",
    "state_circuit = estimator.prepare_state_circuit(params)\n",
    "\n",
    "state_circuit.draw('mpl')"
   ]
  },
  {
   "cell_type": "markdown",
   "metadata": {},
   "source": [
    "## Pauli Based Measurements\n",
    "We want to estimate the expectation value of an observable for the quantum state we are preparing.\n",
    "\n",
    "We have seen that even if a quantum computer can only measure qubits in the Z-basis, the X and Y-basis are accessible if we *rotate* the quantum state before measuring. \n",
    "\n",
    "Implement the `@staticmethod` : `diagonalizing_pauli_string_circuit()` in the `Estimator` class in file `Estimator.py` that returns a `QuantumCircuit` that performs a transformation which diagonalize the provided `PauliString`.\n",
    "\n",
    "First we import the abstract class `Estimator` and the `PauliString` class."
   ]
  },
  {
   "cell_type": "code",
   "execution_count": 15,
   "metadata": {},
   "outputs": [],
   "source": [
    "from pauli_string import PauliString"
   ]
  },
  {
   "cell_type": "markdown",
   "metadata": {},
   "source": [
    "Test your code with the next cell."
   ]
  },
  {
   "cell_type": "code",
   "execution_count": 16,
   "metadata": {},
   "outputs": [
    {
     "name": "stdout",
     "output_type": "stream",
     "text": [
      "ZIZZ\n"
     ]
    },
    {
     "data": {
      "image/png": "[encoded data removed]",
      "text/plain": [
       "<Figure size 287.496x367.889 with 1 Axes>"
      ]
     },
     "execution_count": 16,
     "metadata": {},
     "output_type": "execute_result"
    }
   ],
   "source": [
    "%autoreload\n",
    "pauli_string = PauliString.from_str('ZIXY')\n",
    "diagonalizing_circuit, diagonal_pauli_string = Estimator.diagonalizing_pauli_string_circuit(pauli_string)\n",
    "print(diagonal_pauli_string) #should be 'ZIZZ'\n",
    "diagonalizing_circuit.draw('mpl')"
   ]
  },
  {
   "cell_type": "markdown",
   "metadata": {},
   "source": [
    "## Circuit and diagonal observables preperation (`BasicEstimator`)\n",
    "\n",
    "The `diagonal_observables_and_circuits()` method is specific to the sub-types of `Estimator`. The two different types of `Estimator`s considered in this workshop are :\n",
    "- The `BasicEstimator` will run a single `QuantumCircuit` for each `PauliString` present in the provided observable (`LinearCombinaisonPauliString`).\n",
    "- The `BitwiseCommutingCliqueEstimator` will exploit Bitwise Commuting Clique to combine the estimation of Commuting `PauliString`s and reduce the number of different `QuantumCircuit` ran to estimate the expectation value of the observable. \n",
    "\n",
    "Implement the `diagonal_observables_and_circuits()` method in the `BasicEstimator` class in file `Estimator.py`. This method needs to convert each `PauliString` in the observable into a diagonal `PauliString` (of only `I` and `Z`) and a quantum circuit. The diagonal `PauliString` should then be combined with its associated coefficient into a  `LinearCombinaisonPauliString` of only one `PauliString` to form a diagonal observable. The quantum circuit should represent the transformation which convert the original `PauliString` into the respective diagonal `PauliString`. The method should return all the diagonal observables and respective quantum circuits into two `list`.\n",
    "\n",
    "**Note** The reason the diagonal `PauliString` are returned as `LinearCombinaisonPauliString` of only one `PauliString` and not a single `LinearCombinaisonPauliString` of many `PauliString` is to facilitate the implementation of the similar methods for the `BitwiseCommutingCliqueEstimator`. You can try to implemente this second `Estimator` if you wish.\n",
    "\n",
    "You can test your method on `2*ZIXY + 1*IXYZ`."
   ]
  },
  {
   "cell_type": "code",
   "execution_count": 17,
   "metadata": {},
   "outputs": [],
   "source": [
    "from estimator import BasicEstimator"
   ]
  },
  {
   "cell_type": "code",
   "execution_count": 18,
   "metadata": {},
   "outputs": [
    {
     "name": "stdout",
     "output_type": "stream",
     "text": [
      "1 pauli strings for 4 qubits (Real, Imaginary)\n",
      "ZZZZ (+2.00000,+0.00000)\n",
      "1 pauli strings for 4 qubits (Real, Imaginary)\n",
      "IIZZ (+1.00000,+0.00000)\n"
     ]
    }
   ],
   "source": [
    "%autoreload\n",
    "observable = 2*PauliString.from_str('ZXZX') + 1*PauliString.from_str('IIZZ')\n",
    "diagonal_observables, diagonalizing_circuits = BasicEstimator.diagonal_observables_and_circuits(observable)\n",
    "\n",
    "for diagonal_observable in diagonal_observables:\n",
    "    print(diagonal_observable)"
   ]
  },
  {
   "cell_type": "markdown",
   "metadata": {},
   "source": [
    "You should get :\n",
    "\n",
    "<code>\n",
    "1 pauli strings for 4 qubits (Real, Imaginary)<br>\n",
    "ZZZZ (+2.00000,+0.00000)<br>\n",
    "\n",
    "1 pauli strings for 4 qubits (Real, Imaginary)<br>\n",
    "IIZZ (+1.00000,+0.00000)<br>\n",
    "</code>"
   ]
  },
  {
   "cell_type": "markdown",
   "metadata": {},
   "source": [
    "## Set the observable\n",
    "\n",
    "You should now be able to instantiate the `BasicEstimator` and to set an observable using `set_observable()`. This method is already implemented. It calls the `diagonal_observables_and_circuits()` method you just made and stores the `diagonal_observables` and the `diagonalizing_circuits` into the instance of the `Estimator`."
   ]
  },
  {
   "cell_type": "markdown",
   "metadata": {},
   "source": [
    "## Assemble circuits\n",
    "\n",
    "Now that we have the state circuit and diagonalizing circuits we can assemble all the quantum circuits that will be executed in the estimation of the expectation value of the observable. The method `assemble_circuits()` assembles the state circuit with each one of the diagonalizing circuits to create as many circuits. This method should also apply the final measurements.\n",
    "\n",
    "One you have implemented this method you can test it here:"
   ]
  },
  {
   "cell_type": "code",
   "execution_count": 19,
   "metadata": {},
   "outputs": [
    {
     "data": {
      "image/png": "[encoded data removed]",
      "text/plain": [
       "<Figure size 914.831x451.5 with 1 Axes>"
      ]
     },
     "execution_count": 19,
     "metadata": {},
     "output_type": "execute_result"
    }
   ],
   "source": [
    "%autoreload\n",
    "\n",
    "varform = varform_4qubits_1param\n",
    "backend = qasm_simulator\n",
    "estimator = BasicEstimator(varform, backend)\n",
    "\n",
    "observable = 2*PauliString.from_str('ZXZX') + 1*PauliString.from_str('IIZZ')\n",
    "estimator.set_observable(observable)\n",
    "params = [0,]\n",
    "state_circuit = estimator.prepare_state_circuit(params)\n",
    "circuits = estimator.assemble_circuits(state_circuit)\n",
    "circuits[1].draw('mpl')"
   ]
  },
  {
   "cell_type": "markdown",
   "metadata": {},
   "source": [
    "You should then be able to execute these circuits..."
   ]
  },
  {
   "cell_type": "code",
   "execution_count": 20,
   "metadata": {},
   "outputs": [],
   "source": [
    "execute_opts = {'shots' : 1024, 'seed_simulator' : 1}\n",
    "job = execute(circuits[0], backend=qasm_simulator, **execute_opts)\n",
    "result = job.result()"
   ]
  },
  {
   "cell_type": "markdown",
   "metadata": {},
   "source": [
    "... and obtain the results as counts."
   ]
  },
  {
   "cell_type": "code",
   "execution_count": 21,
   "metadata": {},
   "outputs": [
    {
     "name": "stdout",
     "output_type": "stream",
     "text": [
      "{'0100': 245, '0000': 234, '0101': 272, '0001': 273}\n"
     ]
    }
   ],
   "source": [
    "i = 0\n",
    "counts = result.get_counts(circuits[i])\n",
    "print(counts)"
   ]
  },
  {
   "cell_type": "markdown",
   "metadata": {},
   "source": [
    "You should get :\n",
    "\n",
    "<code>\n",
    "{'0100': 245, '0000': 234, '0101': 272, '0001': 273}\n",
    "</code>"
   ]
  },
  {
   "cell_type": "markdown",
   "metadata": {},
   "source": [
    "## Diagonal pauli string eigenvalue\n",
    "\n",
    "With these counts in hands, we can tackle the last steps of the estimation of the expectation value of an observable. First we need to compute the eigenvalue of a diagonal pauli string for a given basis state. This eigenvalue can only be `+1` or `-1`. This computation should be done in the `diagonal_pauli_string_eigenvalue()` method that you can implement now.\n",
    "\n",
    "You can test your implementation with the following code which should run `-1`."
   ]
  },
  {
   "cell_type": "code",
   "execution_count": 22,
   "metadata": {},
   "outputs": [
    {
     "data": {
      "text/plain": [
       "-1"
      ]
     },
     "execution_count": 22,
     "metadata": {},
     "output_type": "execute_result"
    }
   ],
   "source": [
    "%autoreload\n",
    "\n",
    "diagonal_pauli_string = PauliString.from_str('ZIZZ')\n",
    "state = '0110'\n",
    "\n",
    "eigenvalue = Estimator.diagonal_pauli_string_eigenvalue(diagonal_pauli_string, state)\n",
    "eigenvalue"
   ]
  },
  {
   "cell_type": "markdown",
   "metadata": {},
   "source": [
    "## Diagonal pauli string expectation value"
   ]
  },
  {
   "cell_type": "markdown",
   "metadata": {},
   "source": [
    "Let's now estimate the expectation value of a single diagonal `PauliString`. This needs to be done in the method `estimate_diagonal_pauli_string_expectation_value()`. Implement this method using the one you just implemented and the following equation\n",
    "\\begin{align}\n",
    "    \\langle \\hat{\\mathcal{P}} \\rangle = \\frac{1}{N_\\text{tot}}\\sum_{q} N_q \\Lambda_q^{(\\hat{\\mathcal{P}})}\n",
    "\\end{align}\n",
    "where $\\Lambda_q^{(\\hat{\\mathcal{P}})}$ is the eigenvalue of the `PauliString` for a state $q$ and $N_q$ is the counts, i.e. the number of times this state was measured. Testing your implementation, you should get an expectation value of `0`."
   ]
  },
  {
   "cell_type": "code",
   "execution_count": 23,
   "metadata": {},
   "outputs": [
    {
     "data": {
      "text/plain": [
       "0.0"
      ]
     },
     "execution_count": 23,
     "metadata": {},
     "output_type": "execute_result"
    }
   ],
   "source": [
    "%autoreload\n",
    "\n",
    "diagonal_pauli_string = PauliString.from_str('ZIZZ')\n",
    "counts = {'0110' : 50, '1001' : 50}\n",
    "pauli_string_expectation_value = Estimator.estimate_diagonal_pauli_string_expectation_value(diagonal_pauli_string, counts)\n",
    "pauli_string_expectation_value"
   ]
  },
  {
   "cell_type": "markdown",
   "metadata": {},
   "source": [
    "## Diagonal observable expectation value\n",
    "\n",
    "This last step may seem a bit redondant, but it makes more sense if you try to implement the `BitwiseCommutingCliqueEstimator`. Anyhow, you need to implement the method `estimate_diagonal_observable_expectation_value()` so that it computes the expectation value of a diagonal observable by computing the linear combinaison of the diagonal pauli string expectation value, weighted by their respective coefficients.\n",
    "\\begin{align}\n",
    "    \\langle \\hat{\\mathcal{D}} \\rangle  = \\sum_i h_i \\langle \\hat{\\mathcal{P}}_i \\rangle \n",
    "\\end{align}"
   ]
  },
  {
   "cell_type": "code",
   "execution_count": 24,
   "metadata": {},
   "outputs": [
    {
     "name": "stdout",
     "output_type": "stream",
     "text": [
      "1.0\n"
     ]
    }
   ],
   "source": [
    "%autoreload\n",
    "\n",
    "diagonal_observable = 2*PauliString.from_str('ZZZZ') + 1*PauliString.from_str('IIZZ')\n",
    "counts = {'0110' : 50, '1001' : 50}\n",
    "observable_expectation_value = Estimator.estimate_diagonal_observable_expectation_value(diagonal_observable, counts)\n",
    "print(observable_expectation_value)"
   ]
  },
  {
   "cell_type": "markdown",
   "metadata": {},
   "source": [
    "Again, you should get an expectation value of `0`."
   ]
  },
  {
   "cell_type": "markdown",
   "metadata": {},
   "source": [
    "## The `eval(params)` method\n",
    "\n",
    "You have now all the pieces to complete the `eval(params)` method. This method should use many methods you've just implemented. Mathematicaly, it should return the value of the expression\n",
    "\n",
    "\\begin{align}\n",
    "    E(\\boldsymbol{\\theta}) = \\sum_i h_i \\langle\\psi(\\boldsymbol{\\theta}) | \\hat{\\mathcal{P}}_i | \\psi(\\boldsymbol{\\theta}) \\rangle.\n",
    "\\end{align}"
   ]
  },
  {
   "cell_type": "code",
   "execution_count": 25,
   "metadata": {},
   "outputs": [
    {
     "name": "stdout",
     "output_type": "stream",
     "text": [
      "-1.0234375\n"
     ]
    }
   ],
   "source": [
    "%autoreload\n",
    "\n",
    "varform = varform_4qubits_1param\n",
    "backend = qasm_simulator\n",
    "execute_opts = {'shots' : 1024, 'seed_simulator' : 1}\n",
    "evaluator = BasicEstimator(varform,backend,execute_opts = execute_opts)\n",
    "\n",
    "observable = 2*PauliString.from_str('ZXZX') + 1*PauliString.from_str('IIZZ')\n",
    "evaluator.set_observable(observable)\n",
    "params = [0,]\n",
    "expected_value = evaluator.eval(params)\n",
    "print(expected_value)"
   ]
  },
  {
   "cell_type": "markdown",
   "metadata": {},
   "source": [
    "Yes that's right, your code now returns an estimate of the expression\n",
    "\n",
    "\\begin{align}\n",
    "    E(\\theta) = \\langle \\psi(\\theta) | \\hat{\\mathcal{H}} | \\psi(\\theta) \\rangle.\n",
    "\\end{align} \n",
    "\n",
    "for\n",
    "\n",
    "\\begin{align}\n",
    "    \\hat{\\mathcal{H}} = 2\\times \\hat{Z}\\hat{X}\\hat{Z}\\hat{X} + 1\\times \\hat{I}\\hat{I}\\hat{Z}\\hat{Z}\n",
    "\\end{align} \n",
    "\n",
    "and the varform `varform_4qubits_1param` with $\\theta = 0$. The `evaluator.eval()` is now a method you can call like a function and it will return the energy $E(\\theta)$.\n",
    "\n",
    "Now comes the time to test this on the $\\text{H}_2$ molecule Hamiltonian!"
   ]
  },
  {
   "cell_type": "markdown",
   "metadata": {},
   "source": [
    "## The Hamiltonian evaluation test\n",
    "\n",
    "We will now import the classes from the previous activity."
   ]
  },
  {
   "cell_type": "code",
   "execution_count": 26,
   "metadata": {},
   "outputs": [],
   "source": [
    "from hamiltonian import MolecularFermionicHamiltonian\n",
    "from mapping import JordanWigner"
   ]
  },
  {
   "cell_type": "markdown",
   "metadata": {},
   "source": [
    "For ease of use we will import the integral values instead of using `pyscf`. We also import the Coulomb repulsion energy for later use. By now we are experts in building the Hamiltonian."
   ]
  },
  {
   "cell_type": "code",
   "execution_count": 27,
   "metadata": {},
   "outputs": [],
   "source": [
    "with open('Integrals_sto-3g_H2_d_0.7350_no_spin.npz','rb') as f:\n",
    "    out = np.load(f)\n",
    "    h1_load_no_spin = out['h1']\n",
    "    h2_load_no_spin = out['h2']\n",
    "    energy_nuc =  out['energy_nuc']\n",
    "    \n",
    "molecular_hamiltonian = MolecularFermionicHamiltonian.from_integrals(h1_load_no_spin,h2_load_no_spin).include_spin()"
   ]
  },
  {
   "cell_type": "markdown",
   "metadata": {},
   "source": [
    "We use the Jordan-Wigner mapping to the get the Hamiltonian for the H2 molecule with `d=0.735`. "
   ]
  },
  {
   "cell_type": "code",
   "execution_count": 29,
   "metadata": {},
   "outputs": [
    {
     "name": "stdout",
     "output_type": "stream",
     "text": [
      "99 pauli strings for 4 qubits (Real, Imaginary)\n",
      "IIII (-0.81055,+0.00000)\n",
      "XXII (+0.00000,+0.00000)\n",
      "XIXI (+0.00000,+0.00000)\n",
      "IXXI (+0.00000,+0.00000)\n",
      "IXIX (+0.00000,+0.00000)\n",
      "IIXX (+0.00000,+0.00000)\n",
      "XXXX (+0.04523,+0.00000)\n",
      "ZIII (-0.22575,+0.00000)\n",
      "YXII (+0.00000,+0.00000)\n",
      "YIXI (+0.00000,+0.00000)\n",
      "ZXXI (+0.00000,+0.00000)\n",
      "ZIXX (+0.00000,+0.00000)\n",
      "YXXX (+0.00000,+0.00000)\n",
      "IZII (+0.17218,+0.00000)\n",
      "XYII (+0.00000,+0.00000)\n",
      "XZXI (+0.00000,+0.00000)\n",
      "IYXI (+0.00000,+0.00000)\n",
      "XZIX (+0.00000,+0.00000)\n",
      "IYIX (+0.00000,+0.00000)\n",
      "IZXX (+0.00000,+0.00000)\n",
      "XYXX (+0.00000,-0.00000)\n",
      "ZZII (+0.12091,+0.00000)\n",
      "YYII (+0.00000,+0.00000)\n",
      "YZXI (+0.00000,+0.00000)\n",
      "ZYXI (+0.00000,+0.00000)\n",
      "YZIX (+0.00000,+0.00000)\n",
      "YYXX (+0.04523,+0.00000)\n",
      "IIZI (-0.22575,+0.00000)\n",
      "XXZI (+0.00000,+0.00000)\n",
      "XIYI (+0.00000,+0.00000)\n",
      "IXYI (+0.00000,+0.00000)\n",
      "XIZX (+0.00000,+0.00000)\n",
      "IXZX (+0.00000,+0.00000)\n",
      "IIYX (+0.00000,+0.00000)\n",
      "XXYX (+0.00000,+0.00000)\n",
      "ZIZI (+0.17464,+0.00000)\n",
      "YXZI (+0.00000,+0.00000)\n",
      "YIYI (+0.00000,+0.00000)\n",
      "ZXYI (+0.00000,+0.00000)\n",
      "YIZX (+0.00000,+0.00000)\n",
      "ZXZX (+0.00000,+0.00000)\n",
      "ZIYX (+0.00000,+0.00000)\n",
      "YXYX (+0.00000,+0.00000)\n",
      "IZZI (+0.16615,+0.00000)\n",
      "XYZI (+0.00000,+0.00000)\n",
      "XZYI (+0.00000,+0.00000)\n",
      "IYYI (+0.00000,+0.00000)\n",
      "XZZX (+0.00000,+0.00000)\n",
      "IYZX (+0.00000,+0.00000)\n",
      "IZYX (+0.00000,+0.00000)\n",
      "XYYX (-0.00000,+0.00000)\n",
      "YYZI (+0.00000,+0.00000)\n",
      "YZYI (+0.00000,+0.00000)\n",
      "ZYYI (+0.00000,+0.00000)\n",
      "YZZX (+0.00000,+0.00000)\n",
      "ZYZX (+0.00000,+0.00000)\n",
      "YYYX (+0.00000,+0.00000)\n",
      "IIIZ (+0.17218,+0.00000)\n",
      "XXIZ (+0.00000,+0.00000)\n",
      "IXXZ (+0.00000,+0.00000)\n",
      "IXIY (+0.00000,+0.00000)\n",
      "IIXY (+0.00000,+0.00000)\n",
      "XXXY (+0.00000,-0.00000)\n",
      "ZIIZ (+0.16615,+0.00000)\n",
      "YXIZ (+0.00000,+0.00000)\n",
      "ZIXY (+0.00000,+0.00000)\n",
      "YXXY (-0.00000,+0.00000)\n",
      "IZIZ (+0.16893,+0.00000)\n",
      "XYIZ (+0.00000,+0.00000)\n",
      "XZXZ (+0.00000,+0.00000)\n",
      "IYXZ (+0.00000,+0.00000)\n",
      "XZIY (+0.00000,+0.00000)\n",
      "IYIY (+0.00000,+0.00000)\n",
      "IZXY (+0.00000,+0.00000)\n",
      "XYXY (+0.00000,+0.00000)\n",
      "YYIZ (+0.00000,+0.00000)\n",
      "YZXZ (+0.00000,+0.00000)\n",
      "YZIY (+0.00000,+0.00000)\n",
      "YYXY (+0.00000,-0.00000)\n",
      "IIZZ (+0.12091,+0.00000)\n",
      "IXYZ (+0.00000,+0.00000)\n",
      "XIZY (+0.00000,+0.00000)\n",
      "IXZY (+0.00000,+0.00000)\n",
      "IIYY (+0.00000,+0.00000)\n",
      "XXYY (+0.04523,+0.00000)\n",
      "YIZY (+0.00000,+0.00000)\n",
      "ZXZY (+0.00000,+0.00000)\n",
      "ZIYY (+0.00000,+0.00000)\n",
      "YXYY (+0.00000,+0.00000)\n",
      "XZYZ (+0.00000,+0.00000)\n",
      "IYYZ (+0.00000,+0.00000)\n",
      "XZZY (+0.00000,+0.00000)\n",
      "IYZY (+0.00000,+0.00000)\n",
      "IZYY (+0.00000,+0.00000)\n",
      "XYYY (+0.00000,-0.00000)\n",
      "YZYZ (+0.00000,+0.00000)\n",
      "YZZY (+0.00000,+0.00000)\n",
      "ZYZY (+0.00000,+0.00000)\n",
      "YYYY (+0.04523,+0.00000)\n"
     ]
    }
   ],
   "source": [
    "%autoreload\n",
    "mapping = JordanWigner()\n",
    "qubit_hamiltonian = mapping.fermionic_hamiltonian_to_qubit_hamiltonian(molecular_hamiltonian).sort().combine()#.apply_threshold()\n",
    "print(qubit_hamiltonian)"
   ]
  },
  {
   "cell_type": "markdown",
   "metadata": {},
   "source": [
    "We build an evaluator, feed it with the Hamiltonian (`LinearCombinaisonPauliString`) of H2 and then we evaluate the energy. Use `params` in order that your `varform` prepares the state $|0101\\rangle$."
   ]
  },
  {
   "cell_type": "code",
   "execution_count": 42,
   "metadata": {},
   "outputs": [
    {
     "name": "stdout",
     "output_type": "stream",
     "text": [
      "79\n",
      "1 pauli strings for 4 qubits (Real, Imaginary)\n",
      "YXII (+0.00000,+0.00000)\n",
      "1 pauli strings for 4 qubits (Real, Imaginary)\n",
      "YIXI (+0.00000,+0.00000)\n",
      "1 pauli strings for 4 qubits (Real, Imaginary)\n",
      "ZXXI (+0.00000,+0.00000)\n",
      "1 pauli strings for 4 qubits (Real, Imaginary)\n",
      "ZIXX (+0.00000,+0.00000)\n",
      "1 pauli strings for 4 qubits (Real, Imaginary)\n",
      "YXXX (+0.00000,+0.00000)\n",
      "1 pauli strings for 4 qubits (Real, Imaginary)\n",
      "XYII (+0.00000,+0.00000)\n",
      "1 pauli strings for 4 qubits (Real, Imaginary)\n",
      "XZXI (+0.00000,+0.00000)\n",
      "1 pauli strings for 4 qubits (Real, Imaginary)\n",
      "IYXI (+0.00000,+0.00000)\n",
      "1 pauli strings for 4 qubits (Real, Imaginary)\n",
      "XZIX (+0.00000,+0.00000)\n",
      "1 pauli strings for 4 qubits (Real, Imaginary)\n",
      "IYIX (+0.00000,+0.00000)\n",
      "1 pauli strings for 4 qubits (Real, Imaginary)\n",
      "IZXX (+0.00000,+0.00000)\n",
      "1 pauli strings for 4 qubits (Real, Imaginary)\n",
      "XYXX (+0.00000,-0.00000)\n",
      "1 pauli strings for 4 qubits (Real, Imaginary)\n",
      "YZXI (+0.00000,+0.00000)\n",
      "1 pauli strings for 4 qubits (Real, Imaginary)\n",
      "ZYXI (+0.00000,+0.00000)\n",
      "1 pauli strings for 4 qubits (Real, Imaginary)\n",
      "YZIX (+0.00000,+0.00000)\n",
      "1 pauli strings for 4 qubits (Real, Imaginary)\n",
      "YYXX (+0.04523,+0.00000)\n",
      "1 pauli strings for 4 qubits (Real, Imaginary)\n",
      "XXZI (+0.00000,+0.00000)\n",
      "1 pauli strings for 4 qubits (Real, Imaginary)\n",
      "XIYI (+0.00000,+0.00000)\n",
      "1 pauli strings for 4 qubits (Real, Imaginary)\n",
      "IXYI (+0.00000,+0.00000)\n",
      "1 pauli strings for 4 qubits (Real, Imaginary)\n",
      "XIZX (+0.00000,+0.00000)\n",
      "1 pauli strings for 4 qubits (Real, Imaginary)\n",
      "IXZX (+0.00000,+0.00000)\n",
      "1 pauli strings for 4 qubits (Real, Imaginary)\n",
      "IIYX (+0.00000,+0.00000)\n",
      "1 pauli strings for 4 qubits (Real, Imaginary)\n",
      "XXYX (+0.00000,+0.00000)\n",
      "1 pauli strings for 4 qubits (Real, Imaginary)\n",
      "YXZI (+0.00000,+0.00000)\n",
      "1 pauli strings for 4 qubits (Real, Imaginary)\n",
      "ZXYI (+0.00000,+0.00000)\n",
      "1 pauli strings for 4 qubits (Real, Imaginary)\n",
      "YIZX (+0.00000,+0.00000)\n",
      "1 pauli strings for 4 qubits (Real, Imaginary)\n",
      "ZXZX (+0.00000,+0.00000)\n",
      "1 pauli strings for 4 qubits (Real, Imaginary)\n",
      "ZIYX (+0.00000,+0.00000)\n",
      "1 pauli strings for 4 qubits (Real, Imaginary)\n",
      "YXYX (+0.00000,+0.00000)\n",
      "1 pauli strings for 4 qubits (Real, Imaginary)\n",
      "XYZI (+0.00000,+0.00000)\n",
      "1 pauli strings for 4 qubits (Real, Imaginary)\n",
      "XZYI (+0.00000,+0.00000)\n",
      "1 pauli strings for 4 qubits (Real, Imaginary)\n",
      "XZZX (+0.00000,+0.00000)\n",
      "1 pauli strings for 4 qubits (Real, Imaginary)\n",
      "IYZX (+0.00000,+0.00000)\n",
      "1 pauli strings for 4 qubits (Real, Imaginary)\n",
      "IZYX (+0.00000,+0.00000)\n",
      "1 pauli strings for 4 qubits (Real, Imaginary)\n",
      "XYYX (-0.00000,+0.00000)\n",
      "1 pauli strings for 4 qubits (Real, Imaginary)\n",
      "YYZI (+0.00000,+0.00000)\n",
      "1 pauli strings for 4 qubits (Real, Imaginary)\n",
      "YZYI (+0.00000,+0.00000)\n",
      "1 pauli strings for 4 qubits (Real, Imaginary)\n",
      "ZYYI (+0.00000,+0.00000)\n",
      "1 pauli strings for 4 qubits (Real, Imaginary)\n",
      "YZZX (+0.00000,+0.00000)\n",
      "1 pauli strings for 4 qubits (Real, Imaginary)\n",
      "ZYZX (+0.00000,+0.00000)\n",
      "1 pauli strings for 4 qubits (Real, Imaginary)\n",
      "YYYX (+0.00000,+0.00000)\n",
      "1 pauli strings for 4 qubits (Real, Imaginary)\n",
      "XXIZ (+0.00000,+0.00000)\n",
      "1 pauli strings for 4 qubits (Real, Imaginary)\n",
      "IXXZ (+0.00000,+0.00000)\n",
      "1 pauli strings for 4 qubits (Real, Imaginary)\n",
      "IXIY (+0.00000,+0.00000)\n",
      "1 pauli strings for 4 qubits (Real, Imaginary)\n",
      "IIXY (+0.00000,+0.00000)\n",
      "1 pauli strings for 4 qubits (Real, Imaginary)\n",
      "XXXY (+0.00000,-0.00000)\n",
      "1 pauli strings for 4 qubits (Real, Imaginary)\n",
      "YXIZ (+0.00000,+0.00000)\n",
      "1 pauli strings for 4 qubits (Real, Imaginary)\n",
      "ZIXY (+0.00000,+0.00000)\n",
      "1 pauli strings for 4 qubits (Real, Imaginary)\n",
      "YXXY (-0.00000,+0.00000)\n",
      "1 pauli strings for 4 qubits (Real, Imaginary)\n",
      "XYIZ (+0.00000,+0.00000)\n",
      "1 pauli strings for 4 qubits (Real, Imaginary)\n",
      "XZXZ (+0.00000,+0.00000)\n",
      "1 pauli strings for 4 qubits (Real, Imaginary)\n",
      "IYXZ (+0.00000,+0.00000)\n",
      "1 pauli strings for 4 qubits (Real, Imaginary)\n",
      "XZIY (+0.00000,+0.00000)\n",
      "1 pauli strings for 4 qubits (Real, Imaginary)\n",
      "IZXY (+0.00000,+0.00000)\n",
      "1 pauli strings for 4 qubits (Real, Imaginary)\n",
      "XYXY (+0.00000,+0.00000)\n",
      "1 pauli strings for 4 qubits (Real, Imaginary)\n",
      "YYIZ (+0.00000,+0.00000)\n",
      "1 pauli strings for 4 qubits (Real, Imaginary)\n",
      "YZXZ (+0.00000,+0.00000)\n",
      "1 pauli strings for 4 qubits (Real, Imaginary)\n",
      "YZIY (+0.00000,+0.00000)\n",
      "1 pauli strings for 4 qubits (Real, Imaginary)\n",
      "YYXY (+0.00000,-0.00000)\n",
      "1 pauli strings for 4 qubits (Real, Imaginary)\n",
      "IXYZ (+0.00000,+0.00000)\n",
      "1 pauli strings for 4 qubits (Real, Imaginary)\n",
      "XIZY (+0.00000,+0.00000)\n",
      "1 pauli strings for 4 qubits (Real, Imaginary)\n",
      "IXZY (+0.00000,+0.00000)\n",
      "1 pauli strings for 4 qubits (Real, Imaginary)\n",
      "XXYY (+0.04523,+0.00000)\n",
      "1 pauli strings for 4 qubits (Real, Imaginary)\n",
      "YIZY (+0.00000,+0.00000)\n",
      "1 pauli strings for 4 qubits (Real, Imaginary)\n",
      "ZXZY (+0.00000,+0.00000)\n",
      "1 pauli strings for 4 qubits (Real, Imaginary)\n",
      "ZIYY (+0.00000,+0.00000)\n",
      "1 pauli strings for 4 qubits (Real, Imaginary)\n",
      "YXYY (+0.00000,+0.00000)\n",
      "1 pauli strings for 4 qubits (Real, Imaginary)\n",
      "XZYZ (+0.00000,+0.00000)\n",
      "1 pauli strings for 4 qubits (Real, Imaginary)\n",
      "IYYZ (+0.00000,+0.00000)\n",
      "1 pauli strings for 4 qubits (Real, Imaginary)\n",
      "XZZY (+0.00000,+0.00000)\n",
      "1 pauli strings for 4 qubits (Real, Imaginary)\n",
      "IYZY (+0.00000,+0.00000)\n",
      "1 pauli strings for 4 qubits (Real, Imaginary)\n",
      "IZYY (+0.00000,+0.00000)\n",
      "1 pauli strings for 4 qubits (Real, Imaginary)\n",
      "XYYY (+0.00000,-0.00000)\n",
      "1 pauli strings for 4 qubits (Real, Imaginary)\n",
      "YZYZ (+0.00000,+0.00000)\n",
      "1 pauli strings for 4 qubits (Real, Imaginary)\n",
      "YZZY (+0.00000,+0.00000)\n",
      "1 pauli strings for 4 qubits (Real, Imaginary)\n",
      "ZYZY (+0.00000,+0.00000)\n",
      "6 pauli strings for 4 qubits (Real, Imaginary)\n",
      "XXII (+0.00000,+0.00000)\n",
      "XIXI (+0.00000,+0.00000)\n",
      "IXXI (+0.00000,+0.00000)\n",
      "IXIX (+0.00000,+0.00000)\n",
      "IIXX (+0.00000,+0.00000)\n",
      "XXXX (+0.04523,+0.00000)\n",
      "6 pauli strings for 4 qubits (Real, Imaginary)\n",
      "YYII (+0.00000,+0.00000)\n",
      "YIYI (+0.00000,+0.00000)\n",
      "IYYI (+0.00000,+0.00000)\n",
      "IYIY (+0.00000,+0.00000)\n",
      "IIYY (+0.00000,+0.00000)\n",
      "YYYY (+0.04523,+0.00000)\n",
      "11 pauli strings for 4 qubits (Real, Imaginary)\n",
      "IIII (-0.81055,+0.00000)\n",
      "ZIII (-0.22575,+0.00000)\n",
      "IZII (+0.17218,+0.00000)\n",
      "ZZII (+0.12091,+0.00000)\n",
      "IIZI (-0.22575,+0.00000)\n",
      "ZIZI (+0.17464,+0.00000)\n",
      "IZZI (+0.16615,+0.00000)\n",
      "IIIZ (+0.17218,+0.00000)\n",
      "ZIIZ (+0.16615,+0.00000)\n",
      "IZIZ (+0.16893,+0.00000)\n",
      "IIZZ (+0.12091,+0.00000)\n"
     ]
    },
    {
     "data": {
      "text/plain": [
       "[<pauli_string.LinearCombinaisonPauliString at 0x7f5de3c8e6d0>,\n",
       " <pauli_string.LinearCombinaisonPauliString at 0x7f5de3ee9c70>,\n",
       " <pauli_string.LinearCombinaisonPauliString at 0x7f5de3c3ceb0>,\n",
       " <pauli_string.LinearCombinaisonPauliString at 0x7f5de3c3cca0>,\n",
       " <pauli_string.LinearCombinaisonPauliString at 0x7f5de3c3c160>,\n",
       " <pauli_string.LinearCombinaisonPauliString at 0x7f5de3c3c730>,\n",
       " <pauli_string.LinearCombinaisonPauliString at 0x7f5de3c3c220>,\n",
       " <pauli_string.LinearCombinaisonPauliString at 0x7f5de3c3cd30>,\n",
       " <pauli_string.LinearCombinaisonPauliString at 0x7f5de3c3c460>,\n",
       " <pauli_string.LinearCombinaisonPauliString at 0x7f5de3c3ca60>,\n",
       " <pauli_string.LinearCombinaisonPauliString at 0x7f5de3c3cc10>,\n",
       " <pauli_string.LinearCombinaisonPauliString at 0x7f5de3c3c4c0>,\n",
       " <pauli_string.LinearCombinaisonPauliString at 0x7f5de0ebc490>,\n",
       " <pauli_string.LinearCombinaisonPauliString at 0x7f5de0ebc3d0>,\n",
       " <pauli_string.LinearCombinaisonPauliString at 0x7f5de0ebc370>,\n",
       " <pauli_string.LinearCombinaisonPauliString at 0x7f5de0ebc310>,\n",
       " <pauli_string.LinearCombinaisonPauliString at 0x7f5de0ebc2b0>,\n",
       " <pauli_string.LinearCombinaisonPauliString at 0x7f5de0ebc250>,\n",
       " <pauli_string.LinearCombinaisonPauliString at 0x7f5de0ebc1f0>,\n",
       " <pauli_string.LinearCombinaisonPauliString at 0x7f5de0ebc190>,\n",
       " <pauli_string.LinearCombinaisonPauliString at 0x7f5de0ebc130>,\n",
       " <pauli_string.LinearCombinaisonPauliString at 0x7f5de0ebc0d0>,\n",
       " <pauli_string.LinearCombinaisonPauliString at 0x7f5de0ebc070>,\n",
       " <pauli_string.LinearCombinaisonPauliString at 0x7f5de0ebc400>,\n",
       " <pauli_string.LinearCombinaisonPauliString at 0x7f5de0ebc460>,\n",
       " <pauli_string.LinearCombinaisonPauliString at 0x7f5de0ebc5e0>,\n",
       " <pauli_string.LinearCombinaisonPauliString at 0x7f5de0ebc6d0>,\n",
       " <pauli_string.LinearCombinaisonPauliString at 0x7f5de0ebc730>,\n",
       " <pauli_string.LinearCombinaisonPauliString at 0x7f5de0ebc790>,\n",
       " <pauli_string.LinearCombinaisonPauliString at 0x7f5de0ebc7f0>,\n",
       " <pauli_string.LinearCombinaisonPauliString at 0x7f5de0ebc850>,\n",
       " <pauli_string.LinearCombinaisonPauliString at 0x7f5de0ebc8b0>,\n",
       " <pauli_string.LinearCombinaisonPauliString at 0x7f5de0ebc910>,\n",
       " <pauli_string.LinearCombinaisonPauliString at 0x7f5de0ebc970>,\n",
       " <pauli_string.LinearCombinaisonPauliString at 0x7f5de0ebc9d0>,\n",
       " <pauli_string.LinearCombinaisonPauliString at 0x7f5de0ebca30>,\n",
       " <pauli_string.LinearCombinaisonPauliString at 0x7f5de0ebca90>,\n",
       " <pauli_string.LinearCombinaisonPauliString at 0x7f5de0ebcaf0>,\n",
       " <pauli_string.LinearCombinaisonPauliString at 0x7f5de0ebcb50>,\n",
       " <pauli_string.LinearCombinaisonPauliString at 0x7f5de0ebcbb0>,\n",
       " <pauli_string.LinearCombinaisonPauliString at 0x7f5de0ebcc10>,\n",
       " <pauli_string.LinearCombinaisonPauliString at 0x7f5de0ebcc70>,\n",
       " <pauli_string.LinearCombinaisonPauliString at 0x7f5de0ebccd0>,\n",
       " <pauli_string.LinearCombinaisonPauliString at 0x7f5de0ebcd30>,\n",
       " <pauli_string.LinearCombinaisonPauliString at 0x7f5de0ebcd90>,\n",
       " <pauli_string.LinearCombinaisonPauliString at 0x7f5de0ebcdf0>,\n",
       " <pauli_string.LinearCombinaisonPauliString at 0x7f5de0ebce50>,\n",
       " <pauli_string.LinearCombinaisonPauliString at 0x7f5de0ebceb0>,\n",
       " <pauli_string.LinearCombinaisonPauliString at 0x7f5de0ebcf10>,\n",
       " <pauli_string.LinearCombinaisonPauliString at 0x7f5de0ebcf70>,\n",
       " <pauli_string.LinearCombinaisonPauliString at 0x7f5de0ebcfd0>,\n",
       " <pauli_string.LinearCombinaisonPauliString at 0x7f5de11b6340>,\n",
       " <pauli_string.LinearCombinaisonPauliString at 0x7f5de110fd60>,\n",
       " <pauli_string.LinearCombinaisonPauliString at 0x7f5de110fb80>,\n",
       " <pauli_string.LinearCombinaisonPauliString at 0x7f5de110f820>,\n",
       " <pauli_string.LinearCombinaisonPauliString at 0x7f5de12b4160>,\n",
       " <pauli_string.LinearCombinaisonPauliString at 0x7f5de12b4130>,\n",
       " <pauli_string.LinearCombinaisonPauliString at 0x7f5de12b4280>,\n",
       " <pauli_string.LinearCombinaisonPauliString at 0x7f5de12b4190>,\n",
       " <pauli_string.LinearCombinaisonPauliString at 0x7f5de12b47c0>,\n",
       " <pauli_string.LinearCombinaisonPauliString at 0x7f5de12b4400>,\n",
       " <pauli_string.LinearCombinaisonPauliString at 0x7f5de12b4640>,\n",
       " <pauli_string.LinearCombinaisonPauliString at 0x7f5de12b4100>,\n",
       " <pauli_string.LinearCombinaisonPauliString at 0x7f5de12b4580>,\n",
       " <pauli_string.LinearCombinaisonPauliString at 0x7f5de12b4f70>,\n",
       " <pauli_string.LinearCombinaisonPauliString at 0x7f5de12b4be0>,\n",
       " <pauli_string.LinearCombinaisonPauliString at 0x7f5de12b4e50>,\n",
       " <pauli_string.LinearCombinaisonPauliString at 0x7f5de12b48b0>,\n",
       " <pauli_string.LinearCombinaisonPauliString at 0x7f5de12b4760>,\n",
       " <pauli_string.LinearCombinaisonPauliString at 0x7f5de12b4490>,\n",
       " <pauli_string.LinearCombinaisonPauliString at 0x7f5de12b46d0>,\n",
       " <pauli_string.LinearCombinaisonPauliString at 0x7f5de12b44f0>,\n",
       " <pauli_string.LinearCombinaisonPauliString at 0x7f5de12a2d90>,\n",
       " <pauli_string.LinearCombinaisonPauliString at 0x7f5de12a2c10>,\n",
       " <pauli_string.LinearCombinaisonPauliString at 0x7f5de12a2100>,\n",
       " <pauli_string.LinearCombinaisonPauliString at 0x7f5de12a2fa0>,\n",
       " <pauli_string.LinearCombinaisonPauliString at 0x7f5de13c1d30>,\n",
       " <pauli_string.LinearCombinaisonPauliString at 0x7f5de12a2250>,\n",
       " <pauli_string.LinearCombinaisonPauliString at 0x7f5de12a2e80>]"
      ]
     },
     "execution_count": 42,
     "metadata": {},
     "output_type": "execute_result"
    }
   ],
   "source": [
    "%autoreload\n",
    "qubit_hamiltonian.divide_in_bitwise_commuting_cliques()"
   ]
  },
  {
   "cell_type": "code",
   "execution_count": 56,
   "metadata": {},
   "outputs": [
    {
     "name": "stdout",
     "output_type": "stream",
     "text": [
      "-1.8368354732343928\n"
     ]
    }
   ],
   "source": [
    "%autoreload\n",
    "varform = varform_4qubits_1param\n",
    "backend = qasm_simulator\n",
    "execute_opts = {'shots' : 2048}\n",
    "estimator = BasicEstimator(varform, backend,execute_opts = execute_opts)\n",
    "estimator.set_observable(qubit_hamiltonian)\n",
    "params = [0,]\n",
    "expected_value = estimator.eval(params)\n",
    "print(expected_value)"
   ]
  },
  {
   "cell_type": "code",
   "execution_count": 68,
   "metadata": {},
   "outputs": [],
   "source": [
    "from estimator import BitwiseCommutingCliqueEstimator"
   ]
  },
  {
   "cell_type": "code",
   "execution_count": 69,
   "metadata": {},
   "outputs": [
    {
     "name": "stdout",
     "output_type": "stream",
     "text": [
      "[-1.83232986]\n"
     ]
    }
   ],
   "source": [
    "%autoreload\n",
    "varform = varform_4qubits_1param\n",
    "backend = qasm_simulator\n",
    "execute_opts = {'shots' : 2048}\n",
    "estimatorBCE = BitwiseCommutingCliqueEstimator(varform, backend,execute_opts = execute_opts)\n",
    "estimatorBCE.set_observable(qubit_hamiltonian)\n",
    "params = [0,]\n",
    "expected_value = estimatorBCE.eval(params)\n",
    "print(expected_value)"
   ]
  },
  {
   "cell_type": "markdown",
   "metadata": {},
   "source": [
    "If your `varform` prepares the state $|0101\\rangle$, you should get something around `-1.83`. This energy is already close to the ground state energy because the ground state is close to $|0101\\rangle$, but still it's not the ground state. We need to find the `params` that will minimise the energy.\n",
    "\n",
    "\\begin{align}\n",
    "    E_0 = \\min_{\\boldsymbol{\\theta}} E(\\boldsymbol{\\theta})\n",
    "\\end{align}"
   ]
  },
  {
   "cell_type": "markdown",
   "metadata": {},
   "source": [
    "# Solver\n",
    "\n",
    "In a final step we need to implement a solver that will try to find the minimal energy. We will implement 2 solvers (the second is optionnal):\n",
    "  1. Use the VQE algo in conjunction with a minimizer to try to minimize `estimator.eval()`.\n",
    "  2. (optional) Use the `to_matrix()` method you implemented in the previous activity to find the exact value/solution.\n",
    "\n",
    "## VQE Solver\n",
    "\n",
    "Like any minimzation process this solver will need a couple of ingredients :\n",
    "- A function to minimize, we will provide this with the evaluator\n",
    "- A minimizer, an algorithm that generaly takes in a function and a set of starting parameters and returns the best guess for the optimal parameters that correspond to the minimal value of the function to minimize.\n",
    "- A set of starting parameters.\n",
    "\n",
    "### Minimizer\n",
    "\n",
    "A minimizer that works OK for the VQE algorithm is the  Sequential Least SQuares Programming (SLSQP) algorithm. It's available in the `minimize` sub-module of [scipy](https://docs.scipy.org/doc/scipy/reference/optimize.minimize-slsqp.html)."
   ]
  },
  {
   "cell_type": "code",
   "execution_count": 50,
   "metadata": {},
   "outputs": [],
   "source": [
    "from scipy.optimize import minimize"
   ]
  },
  {
   "cell_type": "markdown",
   "metadata": {},
   "source": [
    "We will make a Lambda function with the minimizer so we can set all sorts of parameters before feeding it to the solver."
   ]
  },
  {
   "cell_type": "code",
   "execution_count": 51,
   "metadata": {},
   "outputs": [],
   "source": [
    "minimizer = lambda fct, start_param_values : minimize(\n",
    "    fct,\n",
    "    start_param_values,\n",
    "    method = 'SLSQP', \n",
    "    options = {'maxiter' : 5,'eps' : 1e-1, 'ftol' : 1e-4, 'disp' : True, 'iprint' : 2})"
   ]
  },
  {
   "cell_type": "markdown",
   "metadata": {},
   "source": [
    "The `minimizer` now takes only 2 arguments : the function and the starting parameter's values. We also specify some options :\n",
    "- A small value for the maximum number of iterations. You will find that running the VQE algorithm is expansive because of the `estimator.eval()` method. Either it's long to simulate on `qasm_simulator` or because it's running on an actual quantum computer.\n",
    "- A `eps` of `0.1`. This is the size of the step the algorithm is going to change the values of the parameters to try to estimate the slope of the function. By the way, a lot of minimizing algorithms use the slope of the function to know in which direction is the minimum. Since our parameters are all angles in radians a value of 0.1 seems reasonnable. Play with this value if you like.\n",
    "- A `ftol` value of `1e-4`. This is the goal for the precision of the value of the minimum value. The chemical accuracy is around 1 milli-Hartree.\n",
    "- We set `iprint` to `2` so to see what is going on. For your final implementation you can set this to `0`.\n",
    "\n",
    "Before implementing the `VQESolver` let's try this minimizer! The function is `estimator.eval` and we start with a parameter of `0`."
   ]
  },
  {
   "cell_type": "code",
   "execution_count": 52,
   "metadata": {},
   "outputs": [
    {
     "name": "stdout",
     "output_type": "stream",
     "text": [
      "  NIT    FC           OBJFUN            GNORM\n",
      "    1     3    -1.856872E+00     2.007064E-01\n",
      "    2     5    -1.854495E+00     3.516520E-02\n",
      "    3     9    -1.746170E+00     8.986448E-02\n",
      "Optimization terminated successfully    (Exit mode 0)\n",
      "            Current function value: -1.8598196024243547\n",
      "            Iterations: 3\n",
      "            Function evaluations: 16\n",
      "            Gradient evaluations: 3\n"
     ]
    }
   ],
   "source": [
    "minimization_result = minimizer(estimator.eval,[0,])"
   ]
  },
  {
   "cell_type": "markdown",
   "metadata": {},
   "source": [
    "In the end you should get a minimal energy around `1.86` Hartree. Which is a bit smaller than what we had before minimizing. You can explore the `minimization_result` to retreive this value but also the set of optimal parameters."
   ]
  },
  {
   "cell_type": "code",
   "execution_count": 53,
   "metadata": {},
   "outputs": [
    {
     "name": "stdout",
     "output_type": "stream",
     "text": [
      "[-0.20153219]\n",
      "-1.8598196024243547\n"
     ]
    }
   ],
   "source": [
    "opt_params = minimization_result.x\n",
    "opt_value = minimization_result.fun\n",
    "print(opt_params)\n",
    "print(opt_value)"
   ]
  },
  {
   "cell_type": "markdown",
   "metadata": {},
   "source": [
    "### VQE Solver\n",
    "\n",
    "Now you should be in good position to implement the `lowest_eig_value(lcps)` of the `VQESolver` class inside the `Solve.py` file. Test your method here."
   ]
  },
  {
   "cell_type": "code",
   "execution_count": 54,
   "metadata": {},
   "outputs": [],
   "source": [
    "from solver import VQESolver"
   ]
  },
  {
   "cell_type": "code",
   "execution_count": 58,
   "metadata": {},
   "outputs": [
    {
     "name": "stdout",
     "output_type": "stream",
     "text": [
      "  NIT    FC           OBJFUN            GNORM\n",
      "    1     3    -1.851977E+00     2.648542E-01\n",
      "    2     5    -1.858872E+00     3.696530E-02\n",
      "    3     7    -1.860971E+00     4.102649E-02\n",
      "    4     9    -1.850495E+00     5.838058E-02\n",
      "Optimization terminated successfully    (Exit mode 0)\n",
      "            Current function value: -1.8617871315099075\n",
      "            Iterations: 4\n",
      "            Function evaluations: 14\n",
      "            Gradient evaluations: 4\n"
     ]
    }
   ],
   "source": [
    "%autoreload\n",
    "vqe_solver = VQESolver(estimator,minimizer,[0,],name = 'vqe_solver')\n",
    "opt_value = vqe_solver.lowest_eig_value(qubit_hamiltonian)"
   ]
  },
  {
   "cell_type": "markdown",
   "metadata": {},
   "source": [
    "There is only one thing missing to have the complete molecular energy : the Coulomb repulsion energy from the nucleus. This value was loaded when we imported the integrals. Let's add it to the electronic energy."
   ]
  },
  {
   "cell_type": "code",
   "execution_count": 59,
   "metadata": {},
   "outputs": [
    {
     "name": "stdout",
     "output_type": "stream",
     "text": [
      "Ground state position estimate (vqe) :  [-0.24948628]\n",
      "Ground state energy estimate (electronic, vqe) :  -1.8617871315099075\n",
      "Ground state energy estimate (molecular, vqe) :  -1.1418181370609277\n",
      "Total time: 19.62317728996277\n"
     ]
    }
   ],
   "source": [
    "print('Ground state position estimate (vqe) : ', vqe_solver.last_opt_params)\n",
    "print('Ground state energy estimate (electronic, vqe) : ', opt_value)\n",
    "print('Ground state energy estimate (molecular, vqe) : ', opt_value + energy_nuc)\n",
    "print('Total time:', vqe_solver.last_minimization_duration)"
   ]
  },
  {
   "cell_type": "code",
   "execution_count": 70,
   "metadata": {},
   "outputs": [
    {
     "name": "stdout",
     "output_type": "stream",
     "text": [
      "  NIT    FC           OBJFUN            GNORM\n",
      "    1     3    -1.857486E+00     1.997444E-01\n",
      "    2     5    -1.850247E+00     6.329434E-02\n",
      "Optimization terminated successfully    (Exit mode 0)\n",
      "            Current function value: -1.8609496877427638\n",
      "            Iterations: 2\n",
      "            Function evaluations: 9\n",
      "            Gradient evaluations: 2\n"
     ]
    }
   ],
   "source": [
    "%autoreload\n",
    "vqe_solverBCE = VQESolver(estimatorBCE,minimizer,[0,],name = 'vqe_solver')\n",
    "opt_valueBCE = vqe_solverBCE.lowest_eig_value(qubit_hamiltonian)"
   ]
  },
  {
   "cell_type": "code",
   "execution_count": 71,
   "metadata": {},
   "outputs": [
    {
     "name": "stdout",
     "output_type": "stream",
     "text": [
      "Ground state position estimate (vqe) :  [-0.19976514]\n",
      "Ground state energy estimate (electronic, vqe) :  -1.8609496877427638\n",
      "Ground state energy estimate (molecular, vqe) :  -1.140980693293784\n",
      "Total time: 11.538993120193481\n"
     ]
    }
   ],
   "source": [
    "print('Ground state position estimate (vqe) : ', vqe_solverBCE.last_opt_params)\n",
    "print('Ground state energy estimate (electronic, vqe) : ', opt_valueBCE)\n",
    "print('Ground state energy estimate (molecular, vqe) : ', opt_valueBCE + energy_nuc)\n",
    "print('Total time:', vqe_solverBCE.last_minimization_duration)"
   ]
  },
  {
   "cell_type": "markdown",
   "metadata": {},
   "source": [
    "### The Eigenstate\n",
    "\n",
    "What is the eigenstate? We can partially find out by using the `varform` with the parameters we have found and measure everything in the Z basis."
   ]
  },
  {
   "cell_type": "code",
   "execution_count": 44,
   "metadata": {},
   "outputs": [
    {
     "data": {
      "image/png": "[encoded data removed]",
      "text/plain": [
       "<Figure size 1082.05x451.5 with 1 Axes>"
      ]
     },
     "execution_count": 44,
     "metadata": {},
     "output_type": "execute_result"
    }
   ],
   "source": [
    "eigenstate_qc = varform.copy()\n",
    "eigenstate_qc.measure_all()\n",
    "\n",
    "param_dict = dict(zip(eigenstate_qc.parameters,opt_params))\n",
    "eigenstate_qc = eigenstate_qc.assign_parameters(param_dict)\n",
    "\n",
    "eigenstate_qc.draw('mpl')"
   ]
  },
  {
   "cell_type": "markdown",
   "metadata": {},
   "source": [
    "We now execute this circuit."
   ]
  },
  {
   "cell_type": "code",
   "execution_count": 45,
   "metadata": {},
   "outputs": [],
   "source": [
    "execute_opts = {'shots' : 1024}\n",
    "job = execute(eigenstate_qc,backend=qasm_simulator,**execute_opts)\n",
    "result = job.result()\n",
    "counts = result.get_counts(eigenstate_qc)"
   ]
  },
  {
   "cell_type": "markdown",
   "metadata": {},
   "source": [
    "We will use the `plot_histogram` method from `qiskit.visualization` that takes the counts `dict` as an input. "
   ]
  },
  {
   "cell_type": "code",
   "execution_count": 46,
   "metadata": {},
   "outputs": [],
   "source": [
    "from qiskit.visualization import plot_histogram"
   ]
  },
  {
   "cell_type": "code",
   "execution_count": 47,
   "metadata": {},
   "outputs": [
    {
     "data": {
      "image/png": "[encoded data removed]",
      "text/plain": [
       "<Figure size 700x500 with 1 Axes>"
      ]
     },
     "execution_count": 47,
     "metadata": {},
     "output_type": "execute_result"
    }
   ],
   "source": [
    "plot_histogram(counts)"
   ]
  },
  {
   "cell_type": "markdown",
   "metadata": {},
   "source": [
    "We see that the found solution is mostly the state $|0101\\rangle$ which is the Hartree-Fock solution when the 2-body Hamiltonian is not present. Adding this 2-body physics shifts the energy down a bit by introducing a small contribution of $|1010\\rangle$. The actual statevector has a `-` sign between these two states.\n",
    "\n",
    "\\begin{align}\n",
    "\\alpha_{0101}|0101\\rangle - \\alpha_{1010}|0101\\rangle\n",
    "\\end{align}\n",
    "\n",
    "But this is not something we can know from this. Fortunatly, H2 is a small system which can be solved exactly and we can find out this phase."
   ]
  },
  {
   "cell_type": "markdown",
   "metadata": {},
   "source": [
    "## Exact Solver (optional)\n",
    "\n",
    "If you want to compare the value you get with the VQE algorithm it would be nice to have the exact value. If you were able to implement the `to_matrix()` method for `PauliString` and `LinearCombinaisonPauliString` then you can find the exact value of the ground state. All you need is to diagonalise the matrix reprensenting the whole Hamiltonian and find the lowest eigenvalue! Obviously this will not be possible to do for very large systems."
   ]
  },
  {
   "cell_type": "code",
   "execution_count": 46,
   "metadata": {},
   "outputs": [
    {
     "name": "stdout",
     "output_type": "stream",
     "text": [
      "Ground state vector (exact) :  [ 0.00000000e+00+0.j  0.00000000e+00+0.j  1.97215226e-31+0.j\n",
      " -4.50306489e-16+0.j  6.22603307e-17+0.j -9.93760401e-01+0.j\n",
      " -6.59888883e-17+0.j -1.52033323e-16+0.j  5.55111512e-16+0.j\n",
      "  1.00613962e-16+0.j  1.11535939e-01+0.j -2.37440277e-17+0.j\n",
      " -2.15661714e-17+0.j -6.93889390e-18+0.j  3.28486611e-30+0.j\n",
      "  1.78880992e-64+0.j]\n",
      "Ground state energy (electronic, exact) :  -1.8572750302023846\n",
      "Ground state energy (molecular, exact) :  -1.1373060357534048\n"
     ]
    }
   ],
   "source": [
    "hamiltonian_matrix = qubit_hamiltonian.to_matrix()\n",
    "eig_values, eig_vectors = np.linalg.eigh(hamiltonian_matrix)\n",
    "eig_order = np.argsort(eig_values)\n",
    "eig_values = eig_values[eig_order]\n",
    "eig_vectors = eig_vectors[:,eig_order]\n",
    "ground_state_value, ground_state_vector = eig_values[0], eig_vectors[:,0]\n",
    "print('Ground state vector (exact) : ', ground_state_vector)\n",
    "print('Ground state energy (electronic, exact) : ', ground_state_value)\n",
    "print('Ground state energy (molecular, exact) : ', ground_state_value + energy_nuc)"
   ]
  },
  {
   "cell_type": "markdown",
   "metadata": {},
   "source": [
    "Now you can complete the `ExactSolver` in the `Solver.py` file."
   ]
  },
  {
   "cell_type": "code",
   "execution_count": 48,
   "metadata": {},
   "outputs": [],
   "source": [
    "from solver import ExactSolver"
   ]
  },
  {
   "cell_type": "code",
   "execution_count": 49,
   "metadata": {},
   "outputs": [
    {
     "name": "stdout",
     "output_type": "stream",
     "text": [
      "Ground state vector (exact) :  [ 0.00000000e+00+0.j  0.00000000e+00+0.j  0.00000000e+00+0.j\n",
      "  0.00000000e+00+0.j  0.00000000e+00+0.j -9.93760401e-01+0.j\n",
      "  3.33066907e-16+0.j  0.00000000e+00+0.j  4.93038066e-32+0.j\n",
      " -6.68634581e-17+0.j  1.11535939e-01+0.j -1.11022302e-16+0.j\n",
      "  0.00000000e+00+0.j  0.00000000e+00+0.j  0.00000000e+00+0.j\n",
      "  0.00000000e+00+0.j]\n",
      "Ground state energy (electronic, exact) :  -1.857275030202381\n",
      "Ground state energy (molecular, exact) :  -1.1373060357534013\n"
     ]
    }
   ],
   "source": [
    "%autoreload\n",
    "exact_solver = ExactSolver()\n",
    "ground_state_value, ground_state_vector = exact_solver.lowest_eig_value(qubit_hamiltonian)\n",
    "print('Ground state vector (exact) : ', ground_state_vector)\n",
    "print('Ground state energy (electronic, exact) : ', ground_state_value)\n",
    "print('Ground state energy (molecular, exact) : ', ground_state_value + energy_nuc)"
   ]
  },
  {
   "cell_type": "markdown",
   "metadata": {},
   "source": [
    "What are the two basis states involved in the ground state? Let's plot the state vector using `matplotlib`."
   ]
  },
  {
   "cell_type": "code",
   "execution_count": 50,
   "metadata": {},
   "outputs": [],
   "source": [
    "import matplotlib.pyplot as plt"
   ]
  },
  {
   "cell_type": "code",
   "execution_count": 51,
   "metadata": {},
   "outputs": [
    {
     "data": {
      "image/png": "[encoded data removed]",
      "text/plain": [
       "<Figure size 640x480 with 1 Axes>"
      ]
     },
     "metadata": {},
     "output_type": "display_data"
    }
   ],
   "source": [
    "fig,ax = plt.subplots(1,1)\n",
    "i_max = np.argmax(np.abs(ground_state_vector))\n",
    "state = ground_state_vector * np.sign(ground_state_vector[i_max])\n",
    "ax.bar(range(len(state)),np.abs(state),color=(np.real(state) > 0).choose(['r','b']))\n",
    "plt.xticks(range(len(state)),[f\"{i:04b}\" for i in range(len(state))], size='small',rotation=60);"
   ]
  },
  {
   "cell_type": "markdown",
   "metadata": {},
   "source": [
    "# What's next?\n",
    "\n",
    "Now that you can find the ground state for a specific H2 molecule configuration (`d = 0.735`), you should be able to do that for many configurations, say `d = 0.2` to `2.5`. Doing that will enable you to plot the so-called dissociation curve : energy vs distance. Do not forget to include the Coulomb repulsion energy of the nucleus!\n",
    "\n",
    "You could also run your algorithm on a noisy backend, either a noisy simulator or a real quantum computer. You've already seen on day 1 how to set/get a noisy backend. You'll see that noise messes things up pretty bad.\n",
    "\n",
    "Running on real machine will introduce the problem of the qubit layout. You might want to change the `initial_layout` in the `execute_opts` so that your `varform` is not applying CNOT gates between qubits that are not connected. You know this needs to insert SWAP gates and this introduces more noise. Also covered in day 1.\n",
    "\n",
    "To limit the effect of readout noise, you could add a `measure_filter` to your `evaluator`, so that each time you execute the `eval_circuits` you apply the filter to the results. Also covered in day 1.\n",
    "\n",
    "Implement the simulatneous evaluation for bitwise commuting cliques or even for general commuting cliques."
   ]
  },
  {
   "cell_type": "markdown",
   "metadata": {},
   "source": [
    "Notebook by **Maxime Dion** <maxime.dion@usherbrooke.ca><br>\n",
    "For the QSciTech-QuantumBC virtual workshop on gate-based quantum computing"
   ]
  }
 ],
 "metadata": {
  "kernelspec": {
   "display_name": "Python 3 (ipykernel)",
   "language": "python",
   "name": "python3"
  },
  "language_info": {
   "codemirror_mode": {
    "name": "ipython",
    "version": 3
   },
   "file_extension": ".py",
   "mimetype": "text/x-python",
   "name": "python",
   "nbconvert_exporter": "python",
   "pygments_lexer": "ipython3",
   "version": "3.9.16"
  },
  "toc": {
   "base_numbering": 1,
   "nav_menu": {},
   "number_sections": true,
   "sideBar": true,
   "skip_h1_title": false,
   "title_cell": "Table of Contents",
   "title_sidebar": "Contents",
   "toc_cell": false,
   "toc_position": {},
   "toc_section_display": true,
   "toc_window_display": false
  },
  "vscode": {
   "interpreter": {
    "hash": "31f2aee4e71d21fbe5cf8b01ff0e069b9275f58929596ceb00d14d90e3e16cd6"
   }
  }
 },
 "nbformat": 4,
 "nbformat_minor": 4
}
