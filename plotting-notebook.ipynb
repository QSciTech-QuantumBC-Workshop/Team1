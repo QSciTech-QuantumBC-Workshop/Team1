{
 "cells": [
  {
   "cell_type": "code",
   "execution_count": 32,
   "metadata": {},
   "outputs": [],
   "source": [
    "import numpy as np\n",
    "import pandas as pd\n",
    "import matplotlib.pyplot as plt\n",
    "\n",
    "plt.rcParams['figure.dpi'] = 150\n",
    "plt.rcParams['savefig.dpi'] = 400\n",
    "plt.rcParams['figure.figsize'] = (8, 6)\n",
    "\n",
    "\n",
    "font = {'family' : 'serif',\n",
    "        'size'   : 9}\n",
    "\n",
    "plt.rc('font', **font)"
   ]
  },
  {
   "cell_type": "code",
   "execution_count": 15,
   "metadata": {},
   "outputs": [],
   "source": [
    "df = pd.read_csv(\"plot-data.txt\")"
   ]
  },
  {
   "cell_type": "code",
   "execution_count": 16,
   "metadata": {},
   "outputs": [
    {
     "data": {
      "text/html": [
       "<div>\n",
       "<style scoped>\n",
       "    .dataframe tbody tr th:only-of-type {\n",
       "        vertical-align: middle;\n",
       "    }\n",
       "\n",
       "    .dataframe tbody tr th {\n",
       "        vertical-align: top;\n",
       "    }\n",
       "\n",
       "    .dataframe thead th {\n",
       "        text-align: right;\n",
       "    }\n",
       "</style>\n",
       "<table border=\"1\" class=\"dataframe\">\n",
       "  <thead>\n",
       "    <tr style=\"text-align: right;\">\n",
       "      <th></th>\n",
       "      <th>Bond-Length</th>\n",
       "      <th>VQE Energy(electronic)</th>\n",
       "      <th>VQE Energy(molecular)</th>\n",
       "      <th>Exact Energy(electronic)</th>\n",
       "      <th>Exact Energy(molecular)</th>\n",
       "    </tr>\n",
       "  </thead>\n",
       "  <tbody>\n",
       "    <tr>\n",
       "      <th>0</th>\n",
       "      <td>3.00</td>\n",
       "      <td>-2.360000</td>\n",
       "      <td>-0.603568</td>\n",
       "      <td>-2.365727</td>\n",
       "      <td>-0.601804</td>\n",
       "    </tr>\n",
       "    <tr>\n",
       "      <th>1</th>\n",
       "      <td>3.50</td>\n",
       "      <td>-2.302630</td>\n",
       "      <td>-0.790695</td>\n",
       "      <td>-2.301204</td>\n",
       "      <td>-0.789269</td>\n",
       "    </tr>\n",
       "    <tr>\n",
       "      <th>2</th>\n",
       "      <td>4.00</td>\n",
       "      <td>-2.239685</td>\n",
       "      <td>-0.916742</td>\n",
       "      <td>-2.237093</td>\n",
       "      <td>-0.914150</td>\n",
       "    </tr>\n",
       "    <tr>\n",
       "      <th>3</th>\n",
       "      <td>4.50</td>\n",
       "      <td>-2.172870</td>\n",
       "      <td>-0.996929</td>\n",
       "      <td>-2.174360</td>\n",
       "      <td>-0.998415</td>\n",
       "    </tr>\n",
       "    <tr>\n",
       "      <th>4</th>\n",
       "      <td>5.00</td>\n",
       "      <td>-2.113337</td>\n",
       "      <td>-1.054980</td>\n",
       "      <td>-2.113510</td>\n",
       "      <td>-1.055160</td>\n",
       "    </tr>\n",
       "    <tr>\n",
       "      <th>5</th>\n",
       "      <td>5.50</td>\n",
       "      <td>-2.053990</td>\n",
       "      <td>-1.091851</td>\n",
       "      <td>-2.054770</td>\n",
       "      <td>-1.092630</td>\n",
       "    </tr>\n",
       "    <tr>\n",
       "      <th>6</th>\n",
       "      <td>6.00</td>\n",
       "      <td>-1.998552</td>\n",
       "      <td>-1.116589</td>\n",
       "      <td>-1.998248</td>\n",
       "      <td>-1.116286</td>\n",
       "    </tr>\n",
       "    <tr>\n",
       "      <th>7</th>\n",
       "      <td>6.50</td>\n",
       "      <td>-1.945742</td>\n",
       "      <td>-1.131623</td>\n",
       "      <td>-1.944023</td>\n",
       "      <td>-1.129905</td>\n",
       "    </tr>\n",
       "    <tr>\n",
       "      <th>8</th>\n",
       "      <td>7.00</td>\n",
       "      <td>-1.893390</td>\n",
       "      <td>-1.137422</td>\n",
       "      <td>-1.892156</td>\n",
       "      <td>-1.136189</td>\n",
       "    </tr>\n",
       "    <tr>\n",
       "      <th>9</th>\n",
       "      <td>7.35</td>\n",
       "      <td>-1.860815</td>\n",
       "      <td>-1.140846</td>\n",
       "      <td>-1.857275</td>\n",
       "      <td>-1.137306</td>\n",
       "    </tr>\n",
       "    <tr>\n",
       "      <th>10</th>\n",
       "      <td>8.00</td>\n",
       "      <td>-1.798719</td>\n",
       "      <td>-1.137247</td>\n",
       "      <td>-1.795619</td>\n",
       "      <td>-1.134148</td>\n",
       "    </tr>\n",
       "    <tr>\n",
       "      <th>11</th>\n",
       "      <td>8.50</td>\n",
       "      <td>-1.753928</td>\n",
       "      <td>-1.131367</td>\n",
       "      <td>-1.750923</td>\n",
       "      <td>-1.128362</td>\n",
       "    </tr>\n",
       "    <tr>\n",
       "      <th>12</th>\n",
       "      <td>9.00</td>\n",
       "      <td>-1.711239</td>\n",
       "      <td>-1.123264</td>\n",
       "      <td>-1.708535</td>\n",
       "      <td>-1.120560</td>\n",
       "    </tr>\n",
       "    <tr>\n",
       "      <th>13</th>\n",
       "      <td>9.50</td>\n",
       "      <td>-1.669323</td>\n",
       "      <td>-1.112294</td>\n",
       "      <td>-1.668368</td>\n",
       "      <td>-1.111339</td>\n",
       "    </tr>\n",
       "    <tr>\n",
       "      <th>14</th>\n",
       "      <td>10.00</td>\n",
       "      <td>-1.628777</td>\n",
       "      <td>-1.099600</td>\n",
       "      <td>-1.630327</td>\n",
       "      <td>-1.101150</td>\n",
       "    </tr>\n",
       "    <tr>\n",
       "      <th>15</th>\n",
       "      <td>11.00</td>\n",
       "      <td>-1.563136</td>\n",
       "      <td>-1.082066</td>\n",
       "      <td>-1.560263</td>\n",
       "      <td>-1.079192</td>\n",
       "    </tr>\n",
       "    <tr>\n",
       "      <th>16</th>\n",
       "      <td>12.00</td>\n",
       "      <td>-1.501238</td>\n",
       "      <td>-1.060258</td>\n",
       "      <td>-1.497721</td>\n",
       "      <td>-1.056741</td>\n",
       "    </tr>\n",
       "    <tr>\n",
       "      <th>17</th>\n",
       "      <td>14.00</td>\n",
       "      <td>-1.397037</td>\n",
       "      <td>-1.019053</td>\n",
       "      <td>-1.393450</td>\n",
       "      <td>-1.015468</td>\n",
       "    </tr>\n",
       "    <tr>\n",
       "      <th>18</th>\n",
       "      <td>16.00</td>\n",
       "      <td>-1.311357</td>\n",
       "      <td>-0.980621</td>\n",
       "      <td>-1.314208</td>\n",
       "      <td>-0.983472</td>\n",
       "    </tr>\n",
       "  </tbody>\n",
       "</table>\n",
       "</div>"
      ],
      "text/plain": [
       "    Bond-Length   VQE Energy(electronic)   VQE Energy(molecular)  \\\n",
       "0          3.00                -2.360000               -0.603568   \n",
       "1          3.50                -2.302630               -0.790695   \n",
       "2          4.00                -2.239685               -0.916742   \n",
       "3          4.50                -2.172870               -0.996929   \n",
       "4          5.00                -2.113337               -1.054980   \n",
       "5          5.50                -2.053990               -1.091851   \n",
       "6          6.00                -1.998552               -1.116589   \n",
       "7          6.50                -1.945742               -1.131623   \n",
       "8          7.00                -1.893390               -1.137422   \n",
       "9          7.35                -1.860815               -1.140846   \n",
       "10         8.00                -1.798719               -1.137247   \n",
       "11         8.50                -1.753928               -1.131367   \n",
       "12         9.00                -1.711239               -1.123264   \n",
       "13         9.50                -1.669323               -1.112294   \n",
       "14        10.00                -1.628777               -1.099600   \n",
       "15        11.00                -1.563136               -1.082066   \n",
       "16        12.00                -1.501238               -1.060258   \n",
       "17        14.00                -1.397037               -1.019053   \n",
       "18        16.00                -1.311357               -0.980621   \n",
       "\n",
       "     Exact Energy(electronic)   Exact Energy(molecular)  \n",
       "0                   -2.365727                 -0.601804  \n",
       "1                   -2.301204                 -0.789269  \n",
       "2                   -2.237093                 -0.914150  \n",
       "3                   -2.174360                 -0.998415  \n",
       "4                   -2.113510                 -1.055160  \n",
       "5                   -2.054770                 -1.092630  \n",
       "6                   -1.998248                 -1.116286  \n",
       "7                   -1.944023                 -1.129905  \n",
       "8                   -1.892156                 -1.136189  \n",
       "9                   -1.857275                 -1.137306  \n",
       "10                  -1.795619                 -1.134148  \n",
       "11                  -1.750923                 -1.128362  \n",
       "12                  -1.708535                 -1.120560  \n",
       "13                  -1.668368                 -1.111339  \n",
       "14                  -1.630327                 -1.101150  \n",
       "15                  -1.560263                 -1.079192  \n",
       "16                  -1.497721                 -1.056741  \n",
       "17                  -1.393450                 -1.015468  \n",
       "18                  -1.314208                 -0.983472  "
      ]
     },
     "execution_count": 16,
     "metadata": {},
     "output_type": "execute_result"
    }
   ],
   "source": [
    "df"
   ]
  },
  {
   "cell_type": "code",
   "execution_count": 34,
   "metadata": {},
   "outputs": [
    {
     "data": {
      "text/plain": [
       "Text(0.5, 0, 'Bond Length $\\\\AA$')"
      ]
     },
     "execution_count": 34,
     "metadata": {},
     "output_type": "execute_result"
    },
    {
     "data": {
      "image/png": "[encoded data removed]",
      "text/plain": [
       "<Figure size 1200x900 with 1 Axes>"
      ]
     },
     "metadata": {
      "needs_background": "light"
     },
     "output_type": "display_data"
    }
   ],
   "source": [
    "#plt.plot(df['Bond-Length'], df[' VQE Energy(electronic)'], '-o')\n",
    "plt.plot(df['Bond-Length']/10, df[' VQE Energy(molecular)'], '-o', markersize = 2, linewidth= 0.5, label='VQE')\n",
    "plt.plot(df['Bond-Length']/10, df[' Exact Energy(molecular)'], '-o', markersize = 2, linewidth= 0.5, label='Exact Diagonalization')\n",
    "plt.ylabel(r'$E_{molecular}$' + '(Hartree)')\n",
    "plt.xlabel(r'Bond Length ($\\AA$)')"
   ]
  },
  {
   "cell_type": "code",
   "execution_count": 9,
   "metadata": {},
   "outputs": [
    {
     "data": {
      "text/plain": [
       "Index(['Bond-Length', ' VQE Energy(electronic)', ' VQE Energy(molecular)',\n",
       "       ' Exact Energy(electronic)', ' Exact Energy(molecular)'],\n",
       "      dtype='object')"
      ]
     },
     "execution_count": 9,
     "metadata": {},
     "output_type": "execute_result"
    }
   ],
   "source": [
    "df.columns"
   ]
  },
  {
   "cell_type": "code",
   "execution_count": null,
   "metadata": {},
   "outputs": [],
   "source": []
  }
 ],
 "metadata": {
  "kernelspec": {
   "display_name": "base",
   "language": "python",
   "name": "python3"
  },
  "language_info": {
   "codemirror_mode": {
    "name": "ipython",
    "version": 3
   },
   "file_extension": ".py",
   "mimetype": "text/x-python",
   "name": "python",
   "nbconvert_exporter": "python",
   "pygments_lexer": "ipython3",
   "version": "3.8.8"
  },
  "orig_nbformat": 4,
  "vscode": {
   "interpreter": {
    "hash": "ad2bdc8ecc057115af97d19610ffacc2b4e99fae6737bb82f5d7fb13d2f2c186"
   }
  }
 },
 "nbformat": 4,
 "nbformat_minor": 2
}
