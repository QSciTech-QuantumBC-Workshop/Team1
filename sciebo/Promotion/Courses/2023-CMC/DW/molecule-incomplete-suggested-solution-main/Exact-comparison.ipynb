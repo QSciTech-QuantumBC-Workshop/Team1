{
 "cells": [
  {
   "cell_type": "code",
   "execution_count": 9,
   "id": "62ab6510",
   "metadata": {},
   "outputs": [],
   "source": [
    "import numpy as np\n",
    "from mapping import JordanWigner\n",
    "from hamiltonian import MolecularFermionicHamiltonian"
   ]
  },
  {
   "cell_type": "code",
   "execution_count": 26,
   "id": "971d377b",
   "metadata": {},
   "outputs": [
    {
     "name": "stdout",
     "output_type": "stream",
     "text": [
      "4\n"
     ]
    },
    {
     "name": "stderr",
     "output_type": "stream",
     "text": [
      "/tmp/ipykernel_260637/2082827048.py:24: ComplexWarning: Casting complex values to real discards the imaginary part\n",
      "  E0[k] = np.amin(eigvals)\n"
     ]
    },
    {
     "name": "stdout",
     "output_type": "stream",
     "text": [
      "4\n",
      "4\n",
      "4\n",
      "4\n",
      "4\n",
      "4\n",
      "4\n",
      "4\n",
      "4\n",
      "[-2.36572775 -2.30120428 -2.23709273 -2.17436495 -2.11351422 -2.05477029\n",
      " -1.99824803 -1.94402357 -1.8921569  -1.85727503]\n"
     ]
    }
   ],
   "source": [
    "mapping = JordanWigner()\n",
    "creation_operators, annihilation_operators = mapping.fermionic_creation_annihilation_operators(4)\n",
    "\n",
    "#with open('Integrals_sto-3g_H2_d_0.3350_no_spin.npz','rb') as f:\n",
    "arr = np.array([3,35,4,45,5,55,6,65,7,735,])\n",
    "#[0.3,0.35,0.4,0.45,0.5,0.55,0.6,0.65,0.7,0.735,]\n",
    "len_arr = len(arr)\n",
    "E0 = np.zeros(len_arr, dtype = np.double)\n",
    "for k in range(0,len_arr):\n",
    "    with open('my_filep'+str(arr[k])+'.npz','rb') as f:\n",
    "        out = np.load(f)\n",
    "        h1_load_no_spin = out['h1']\n",
    "        h2_load_no_spin = out['h2']\n",
    "    molecular_hamiltonian_no_spin = MolecularFermionicHamiltonian.from_integrals(h1_load_no_spin,h2_load_no_spin)\n",
    "    h1_load_no_spin, h2_load_no_spin = molecular_hamiltonian_no_spin.get_integrals()\n",
    "    molecular_hamiltonian_no_spin = MolecularFermionicHamiltonian.from_integrals(h1_load_no_spin,h2_load_no_spin)\n",
    "    molecular_hamiltonian = molecular_hamiltonian_no_spin.include_spin()\n",
    "    h1_lcps = molecular_hamiltonian.one_body.to_linear_combinaison_pauli_string(creation_operators, annihilation_operators)\n",
    "    h1_lcps = h1_lcps.apply_threshold().combine().apply_threshold().sort()\n",
    "    h2_lcps = molecular_hamiltonian.two_body.to_linear_combinaison_pauli_string(creation_operators, annihilation_operators)\n",
    "    h2_lcps = h2_lcps.apply_threshold().combine().apply_threshold().sort()\n",
    "    H = h1_lcps + h2_lcps\n",
    "    H_mat = H.to_matrix()\n",
    "    eigvals, eigvecs = np.linalg.eig(H_mat)\n",
    "    E0[k] = np.amin(eigvals)\n",
    "print(E0)"
   ]
  },
  {
   "cell_type": "code",
   "execution_count": null,
   "id": "78f53e24",
   "metadata": {},
   "outputs": [],
   "source": []
  },
  {
   "cell_type": "code",
   "execution_count": null,
   "id": "5c187275",
   "metadata": {},
   "outputs": [],
   "source": []
  }
 ],
 "metadata": {
  "kernelspec": {
   "display_name": "Python 3 (ipykernel)",
   "language": "python",
   "name": "python3"
  },
  "language_info": {
   "codemirror_mode": {
    "name": "ipython",
    "version": 3
   },
   "file_extension": ".py",
   "mimetype": "text/x-python",
   "name": "python",
   "nbconvert_exporter": "python",
   "pygments_lexer": "ipython3",
   "version": "3.10.6"
  }
 },
 "nbformat": 4,
 "nbformat_minor": 5
}
