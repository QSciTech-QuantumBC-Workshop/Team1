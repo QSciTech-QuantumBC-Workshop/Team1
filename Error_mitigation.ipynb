{
 "cells": [
  {
   "cell_type": "code",
   "execution_count": 1,
   "metadata": {},
   "outputs": [],
   "source": [
    "import datetime\n",
    "import numpy as np\n",
    "import matplotlib as mpl\n",
    "import matplotlib.pyplot as plt\n",
    "from scipy.optimize import minimize\n",
    "from qiskit_ibm_runtime import Estimator, Session, QiskitRuntimeService, Options\n",
    "from qiskit.quantum_info import SparsePauliOp\n",
    "from qiskit import QuantumCircuit\n",
    "from qiskit.circuit import Parameter\n",
    "from qiskit.circuit import QuantumCircuit\n",
    "from mapping import JordanWigner\n",
    "service = QiskitRuntimeService()\n",
    "from estimator import Estimator\n",
    "from estimator import BasicEstimator"
   ]
  },
  {
   "cell_type": "code",
   "execution_count": 2,
   "metadata": {},
   "outputs": [
    {
     "data": {
      "text/plain": [
       "[<AccountProvider for IBMQ(hub='ibm-q', group='open', project='main')>,\n",
       " <AccountProvider for IBMQ(hub='ibm-q-sherbrooke', group='udes', project='quicophy')>,\n",
       " <AccountProvider for IBMQ(hub='ibm-q-qida', group='iq-qantum-hub', project='quicophy')>,\n",
       " <AccountProvider for IBMQ(hub='ibm-q-qida', group='iq-quantum', project='quicophy')>,\n",
       " <AccountProvider for IBMQ(hub='ibm-q-qida', group='pinq2', project='winter-school')>]"
      ]
     },
     "execution_count": 2,
     "metadata": {},
     "output_type": "execute_result"
    }
   ],
   "source": [
    "from qiskit import IBMQ\n",
    "\n",
    "IBMQ.load_account()\n",
    "IBMQ.providers()"
   ]
  },
  {
   "cell_type": "code",
   "execution_count": 3,
   "metadata": {},
   "outputs": [],
   "source": [
    "# The provider and backend that you will use for the winter school\n",
    "provider = IBMQ.get_provider(hub='ibm-q-qida', group='pinq2', project='winter-school')\n",
    "ibm_simulator = provider.get_backend('ibmq_qasm_simulator')\n",
    "oslo = provider.get_backend('ibm_oslo')"
   ]
  },
  {
   "cell_type": "markdown",
   "metadata": {},
   "source": [
    "<b>Measurement Error mitigation<b>"
   ]
  },
  {
   "cell_type": "code",
   "execution_count": 4,
   "metadata": {},
   "outputs": [
    {
     "data": {
      "image/png": "[encoded data removed]",
      "text/plain": [
       "<Figure size 454.719x367.889 with 1 Axes>"
      ]
     },
     "execution_count": 4,
     "metadata": {},
     "output_type": "execute_result"
    }
   ],
   "source": [
    "varform_4qubits_1param = QuantumCircuit(4)\n",
    "a = Parameter('a')\n",
    "\n",
    "varform_4qubits_1param.ry(a,1)\n",
    "varform_4qubits_1param.x(0)\n",
    "varform_4qubits_1param.cx(1,0)\n",
    "varform_4qubits_1param.cx(0,2)\n",
    "varform_4qubits_1param.cx(1,3)\n",
    "\n",
    "\n",
    "varform_4qubits_1param.draw('mpl')"
   ]
  },
  {
   "cell_type": "code",
   "execution_count": 5,
   "metadata": {},
   "outputs": [
    {
     "name": "stderr",
     "output_type": "stream",
     "text": [
      "/var/folders/z6/4vq2qqgs2078v53wjbxszb8h0000gn/T/ipykernel_1361/3054509103.py:1: DeprecationWarning: The qiskit.ignis package is deprecated and has been supersceded by the qiskit-experiments project. Refer to the migration guide: https://github.com/Qiskit/qiskit-ignis#migration-guide on how to migrate to the new project.\n",
      "  from qiskit.ignis.mitigation.measurement import complete_meas_cal, CompleteMeasFitter\n"
     ]
    }
   ],
   "source": [
    "from qiskit.ignis.mitigation.measurement import complete_meas_cal, CompleteMeasFitter\n",
    "from qiskit.circuit import QuantumRegister\n",
    "from qiskit import execute"
   ]
  },
  {
   "cell_type": "code",
   "execution_count": null,
   "metadata": {},
   "outputs": [],
   "source": [
    "qr = QuantumRegister(4)\n",
    "\n",
    "cal_circuits, state_labels = complete_meas_cal(qr=varform_4qubits_1param.qregs[0], \n",
    "                                               circlabel='measurement_calibration')\n",
    "\n",
    "cal_job = execute(cal_circuits,\n",
    "                 oslo,\n",
    "                 shots=1024,\n",
    "                 optimization_level=0).result()\n",
    "\n",
    "#print(cal_job.job_id())\n",
    "#job_monitor(cal_job)\n",
    "meas_fitter = CompleteMeasFitter(cal_job, state_labels)\n",
    "meas_filter = meas_fitter.filter"
   ]
  },
  {
   "cell_type": "code",
   "execution_count": null,
   "metadata": {},
   "outputs": [],
   "source": [
    "varform = varform_4qubits_1param\n",
    "backend = oslo\n",
    "execute_opts = {'shots' : 1024}\n",
    "estimator = BasicEstimator(varform,backend,execute_opts = execute_opts,measure_filter=meas_filter)"
   ]
  },
  {
   "cell_type": "code",
   "execution_count": 14,
   "metadata": {},
   "outputs": [],
   "source": [
    "from scipy.optimize import minimize\n",
    "minimizer = lambda fct, start_param_values : minimize(\n",
    "    fct,\n",
    "    start_param_values,\n",
    "    method = 'SLSQP', \n",
    "    options = {'maxiter' : 5,'eps' : 1e-1, 'ftol' : 1e-4, 'disp' : True, 'iprint' : 2})"
   ]
  },
  {
   "cell_type": "code",
   "execution_count": null,
   "metadata": {},
   "outputs": [],
   "source": [
    "from pyscf import gto\n",
    "from hamiltonian import MolecularFermionicHamiltonian"
   ]
  },
  {
   "cell_type": "code",
   "execution_count": null,
   "metadata": {},
   "outputs": [],
   "source": [
    "distance = [0.2, 0.4, 0.6, 0.73, 0.9, 1.0, 1.2, 1.5, 1.6] #units in AA\n",
    "GS = []\n",
    "for d in distance:\n",
    "    mol = gto.M(\n",
    "        atom = [['H', (0,0,-d/2)], ['H', (0,0,d/2)]], \n",
    "        basis = 'sto-3g'\n",
    "        )\n",
    "    energy_nuc = mol.energy_nuc()\n",
    "    molecular_hamiltonian_no_spin = MolecularFermionicHamiltonian.from_pyscf_mol(mol)\n",
    "    molecular_hamiltonian = molecular_hamiltonian_no_spin.include_spin()\n",
    "    \n",
    "    mapping = JordanWigner()\n",
    "    qubit_hamiltonian = mapping.fermionic_hamiltonian_to_qubit_hamiltonian(molecular_hamiltonian).apply_threshold().combine().apply_threshold().sort()\n",
    "    estimator.set_observable(qubit_hamiltonian)\n",
    "\n",
    "    params = [0,]\n",
    "    vqe_solver = VQESolver(qubit_hamiltonian,minimizer,[0,],name = 'vqe_solver')\n",
    "    opt_value = vqe_solver.lowest_eig_value(qubit_hamiltonian)\n",
    "    GS.append(opt_value+energy_nuc)"
   ]
  }
 ],
 "metadata": {
  "kernelspec": {
   "display_name": "Python 3 (ipykernel)",
   "language": "python",
   "name": "python3"
  },
  "language_info": {
   "codemirror_mode": {
    "name": "ipython",
    "version": 3
   },
   "file_extension": ".py",
   "mimetype": "text/x-python",
   "name": "python",
   "nbconvert_exporter": "python",
   "pygments_lexer": "ipython3",
   "version": "3.9.15"
  },
  "vscode": {
   "interpreter": {
    "hash": "4bd6500544d83a81aa52c484d266a2009c58713f7ffad23568c612c6d2b13ab8"
   }
  }
 },
 "nbformat": 4,
 "nbformat_minor": 4
}
